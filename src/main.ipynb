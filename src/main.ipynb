{
 "cells": [
  {
   "cell_type": "markdown",
   "source": [
    "# Sentiment prediction from Amazon reviews\n",
    "## About DataSet\n",
    " This dataset consists of reviews of fine foods from Amazon. The data span a period of more than 10 years, including all ~500,000 reviews up to October 2012. Reviews include product and user information, ratings, and a plain text review. It also includes reviews from all other Amazon categories.\n",
    "## Contents\n",
    " - **database.csv :** Contains the table 'Reviews'\n",
    " - **Reviews.csv :** Pulled from the corresponding SQLite table named Reviews in database.sqlite\n",
    "## Data includes:\n",
    " - Reviews from Oct 1999 - Oct 2012\n",
    " - 568,454 reviews\n",
    " - 256,059 users\n",
    " - 74,258 products\n",
    " - 260 users with > 50 reviews"
   ],
   "metadata": {}
  },
  {
   "cell_type": "code",
   "execution_count": 1,
   "source": [
    "import sys\n",
    "import os\n",
    "\n",
    "# Getting the current script's directory\n",
    "current_dir = os.getcwd()\n",
    "\n",
    "# Adding the parent directory to the Python path\n",
    "sys.path.append(os.path.dirname(current_dir))"
   ],
   "outputs": [],
   "metadata": {}
  },
  {
   "cell_type": "code",
   "execution_count": 2,
   "source": [
    "#Importing Libraries\n",
    "\n",
    "import sqlite3\n",
    "import pandas as pd\n",
    "import numpy as np\n",
    "import nltk\n",
    "from nltk.corpus import stopwords\n",
    "from nltk.stem import SnowballStemmer\n",
    "import re\n",
    "import matplotlib.pyplot as plt\n",
    "#get_ipython().run_line_magic('matplotlib', 'inline')\n",
    "import seaborn as sns\n",
    "from sklearn.feature_extraction.text import CountVectorizer\n",
    "from sklearn.feature_extraction.text import TfidfVectorizer\n",
    "from wordcloud import WordCloud\n",
    "from gensim.models import Word2Vec\n",
    "from gensim.models import KeyedVectors\n",
    "import warnings\n",
    "from sklearn.model_selection import train_test_split \n",
    "from sklearn.model_selection import KFold\n",
    "from sklearn.model_selection import cross_val_score\n",
    "import pickle\n",
    "import gensim\n",
    "from tqdm import tqdm\n",
    "from sklearn.preprocessing import LabelEncoder\n",
    "from data_preprocessing import clean_text, preprocess_text, sentence_to_words\n",
    "from ml_algorithms.KNN import KNN_train_simple_cv\n",
    "from ml_algorithms.NaiveBayes import NaiveBayes_train_simple_cv\n",
    "from ml_algorithms.SGDClassifier import SGDClassifier_train_random_search_cv\n",
    "from sklearn import preprocessing\n",
    "from sklearn.preprocessing import Normalizer"
   ],
   "outputs": [
    {
     "output_type": "stream",
     "name": "stderr",
     "text": [
      "[nltk_data] Downloading package stopwords to\n",
      "[nltk_data]     C:\\Users\\anand\\AppData\\Roaming\\nltk_data...\n",
      "[nltk_data]   Package stopwords is already up-to-date!\n",
      "[nltk_data] Downloading package punkt to\n",
      "[nltk_data]     C:\\Users\\anand\\AppData\\Roaming\\nltk_data...\n",
      "[nltk_data]   Package punkt is already up-to-date!\n"
     ]
    }
   ],
   "metadata": {}
  },
  {
   "cell_type": "code",
   "execution_count": 3,
   "source": [
    "raw_data = pd.read_csv(\"C:\\Anand\\Projects_GWU\\Sentiment-prediction-from-Amazon-reviews\\data\\Reviews.csv\")"
   ],
   "outputs": [],
   "metadata": {}
  },
  {
   "cell_type": "code",
   "execution_count": 4,
   "source": [
    "raw_data.head(10)"
   ],
   "outputs": [
    {
     "output_type": "execute_result",
     "data": {
      "text/html": [
       "<div>\n",
       "<style scoped>\n",
       "    .dataframe tbody tr th:only-of-type {\n",
       "        vertical-align: middle;\n",
       "    }\n",
       "\n",
       "    .dataframe tbody tr th {\n",
       "        vertical-align: top;\n",
       "    }\n",
       "\n",
       "    .dataframe thead th {\n",
       "        text-align: right;\n",
       "    }\n",
       "</style>\n",
       "<table border=\"1\" class=\"dataframe\">\n",
       "  <thead>\n",
       "    <tr style=\"text-align: right;\">\n",
       "      <th></th>\n",
       "      <th>Id</th>\n",
       "      <th>ProductId</th>\n",
       "      <th>UserId</th>\n",
       "      <th>ProfileName</th>\n",
       "      <th>HelpfulnessNumerator</th>\n",
       "      <th>HelpfulnessDenominator</th>\n",
       "      <th>Score</th>\n",
       "      <th>Time</th>\n",
       "      <th>Summary</th>\n",
       "      <th>Text</th>\n",
       "    </tr>\n",
       "  </thead>\n",
       "  <tbody>\n",
       "    <tr>\n",
       "      <th>0</th>\n",
       "      <td>1</td>\n",
       "      <td>B001E4KFG0</td>\n",
       "      <td>A3SGXH7AUHU8GW</td>\n",
       "      <td>delmartian</td>\n",
       "      <td>1</td>\n",
       "      <td>1</td>\n",
       "      <td>5</td>\n",
       "      <td>1303862400</td>\n",
       "      <td>Good Quality Dog Food</td>\n",
       "      <td>I have bought several of the Vitality canned d...</td>\n",
       "    </tr>\n",
       "    <tr>\n",
       "      <th>1</th>\n",
       "      <td>2</td>\n",
       "      <td>B00813GRG4</td>\n",
       "      <td>A1D87F6ZCVE5NK</td>\n",
       "      <td>dll pa</td>\n",
       "      <td>0</td>\n",
       "      <td>0</td>\n",
       "      <td>1</td>\n",
       "      <td>1346976000</td>\n",
       "      <td>Not as Advertised</td>\n",
       "      <td>Product arrived labeled as Jumbo Salted Peanut...</td>\n",
       "    </tr>\n",
       "    <tr>\n",
       "      <th>2</th>\n",
       "      <td>3</td>\n",
       "      <td>B000LQOCH0</td>\n",
       "      <td>ABXLMWJIXXAIN</td>\n",
       "      <td>Natalia Corres \"Natalia Corres\"</td>\n",
       "      <td>1</td>\n",
       "      <td>1</td>\n",
       "      <td>4</td>\n",
       "      <td>1219017600</td>\n",
       "      <td>\"Delight\" says it all</td>\n",
       "      <td>This is a confection that has been around a fe...</td>\n",
       "    </tr>\n",
       "    <tr>\n",
       "      <th>3</th>\n",
       "      <td>4</td>\n",
       "      <td>B000UA0QIQ</td>\n",
       "      <td>A395BORC6FGVXV</td>\n",
       "      <td>Karl</td>\n",
       "      <td>3</td>\n",
       "      <td>3</td>\n",
       "      <td>2</td>\n",
       "      <td>1307923200</td>\n",
       "      <td>Cough Medicine</td>\n",
       "      <td>If you are looking for the secret ingredient i...</td>\n",
       "    </tr>\n",
       "    <tr>\n",
       "      <th>4</th>\n",
       "      <td>5</td>\n",
       "      <td>B006K2ZZ7K</td>\n",
       "      <td>A1UQRSCLF8GW1T</td>\n",
       "      <td>Michael D. Bigham \"M. Wassir\"</td>\n",
       "      <td>0</td>\n",
       "      <td>0</td>\n",
       "      <td>5</td>\n",
       "      <td>1350777600</td>\n",
       "      <td>Great taffy</td>\n",
       "      <td>Great taffy at a great price.  There was a wid...</td>\n",
       "    </tr>\n",
       "    <tr>\n",
       "      <th>5</th>\n",
       "      <td>6</td>\n",
       "      <td>B006K2ZZ7K</td>\n",
       "      <td>ADT0SRK1MGOEU</td>\n",
       "      <td>Twoapennything</td>\n",
       "      <td>0</td>\n",
       "      <td>0</td>\n",
       "      <td>4</td>\n",
       "      <td>1342051200</td>\n",
       "      <td>Nice Taffy</td>\n",
       "      <td>I got a wild hair for taffy and ordered this f...</td>\n",
       "    </tr>\n",
       "    <tr>\n",
       "      <th>6</th>\n",
       "      <td>7</td>\n",
       "      <td>B006K2ZZ7K</td>\n",
       "      <td>A1SP2KVKFXXRU1</td>\n",
       "      <td>David C. Sullivan</td>\n",
       "      <td>0</td>\n",
       "      <td>0</td>\n",
       "      <td>5</td>\n",
       "      <td>1340150400</td>\n",
       "      <td>Great!  Just as good as the expensive brands!</td>\n",
       "      <td>This saltwater taffy had great flavors and was...</td>\n",
       "    </tr>\n",
       "    <tr>\n",
       "      <th>7</th>\n",
       "      <td>8</td>\n",
       "      <td>B006K2ZZ7K</td>\n",
       "      <td>A3JRGQVEQN31IQ</td>\n",
       "      <td>Pamela G. Williams</td>\n",
       "      <td>0</td>\n",
       "      <td>0</td>\n",
       "      <td>5</td>\n",
       "      <td>1336003200</td>\n",
       "      <td>Wonderful, tasty taffy</td>\n",
       "      <td>This taffy is so good.  It is very soft and ch...</td>\n",
       "    </tr>\n",
       "    <tr>\n",
       "      <th>8</th>\n",
       "      <td>9</td>\n",
       "      <td>B000E7L2R4</td>\n",
       "      <td>A1MZYO9TZK0BBI</td>\n",
       "      <td>R. James</td>\n",
       "      <td>1</td>\n",
       "      <td>1</td>\n",
       "      <td>5</td>\n",
       "      <td>1322006400</td>\n",
       "      <td>Yay Barley</td>\n",
       "      <td>Right now I'm mostly just sprouting this so my...</td>\n",
       "    </tr>\n",
       "    <tr>\n",
       "      <th>9</th>\n",
       "      <td>10</td>\n",
       "      <td>B00171APVA</td>\n",
       "      <td>A21BT40VZCCYT4</td>\n",
       "      <td>Carol A. Reed</td>\n",
       "      <td>0</td>\n",
       "      <td>0</td>\n",
       "      <td>5</td>\n",
       "      <td>1351209600</td>\n",
       "      <td>Healthy Dog Food</td>\n",
       "      <td>This is a very healthy dog food. Good for thei...</td>\n",
       "    </tr>\n",
       "  </tbody>\n",
       "</table>\n",
       "</div>"
      ],
      "text/plain": [
       "   Id   ProductId          UserId                      ProfileName  \\\n",
       "0   1  B001E4KFG0  A3SGXH7AUHU8GW                       delmartian   \n",
       "1   2  B00813GRG4  A1D87F6ZCVE5NK                           dll pa   \n",
       "2   3  B000LQOCH0   ABXLMWJIXXAIN  Natalia Corres \"Natalia Corres\"   \n",
       "3   4  B000UA0QIQ  A395BORC6FGVXV                             Karl   \n",
       "4   5  B006K2ZZ7K  A1UQRSCLF8GW1T    Michael D. Bigham \"M. Wassir\"   \n",
       "5   6  B006K2ZZ7K   ADT0SRK1MGOEU                   Twoapennything   \n",
       "6   7  B006K2ZZ7K  A1SP2KVKFXXRU1                David C. Sullivan   \n",
       "7   8  B006K2ZZ7K  A3JRGQVEQN31IQ               Pamela G. Williams   \n",
       "8   9  B000E7L2R4  A1MZYO9TZK0BBI                         R. James   \n",
       "9  10  B00171APVA  A21BT40VZCCYT4                    Carol A. Reed   \n",
       "\n",
       "   HelpfulnessNumerator  HelpfulnessDenominator  Score        Time  \\\n",
       "0                     1                       1      5  1303862400   \n",
       "1                     0                       0      1  1346976000   \n",
       "2                     1                       1      4  1219017600   \n",
       "3                     3                       3      2  1307923200   \n",
       "4                     0                       0      5  1350777600   \n",
       "5                     0                       0      4  1342051200   \n",
       "6                     0                       0      5  1340150400   \n",
       "7                     0                       0      5  1336003200   \n",
       "8                     1                       1      5  1322006400   \n",
       "9                     0                       0      5  1351209600   \n",
       "\n",
       "                                         Summary  \\\n",
       "0                          Good Quality Dog Food   \n",
       "1                              Not as Advertised   \n",
       "2                          \"Delight\" says it all   \n",
       "3                                 Cough Medicine   \n",
       "4                                    Great taffy   \n",
       "5                                     Nice Taffy   \n",
       "6  Great!  Just as good as the expensive brands!   \n",
       "7                         Wonderful, tasty taffy   \n",
       "8                                     Yay Barley   \n",
       "9                               Healthy Dog Food   \n",
       "\n",
       "                                                Text  \n",
       "0  I have bought several of the Vitality canned d...  \n",
       "1  Product arrived labeled as Jumbo Salted Peanut...  \n",
       "2  This is a confection that has been around a fe...  \n",
       "3  If you are looking for the secret ingredient i...  \n",
       "4  Great taffy at a great price.  There was a wid...  \n",
       "5  I got a wild hair for taffy and ordered this f...  \n",
       "6  This saltwater taffy had great flavors and was...  \n",
       "7  This taffy is so good.  It is very soft and ch...  \n",
       "8  Right now I'm mostly just sprouting this so my...  \n",
       "9  This is a very healthy dog food. Good for thei...  "
      ]
     },
     "metadata": {},
     "execution_count": 4
    }
   ],
   "metadata": {}
  },
  {
   "cell_type": "code",
   "execution_count": 5,
   "source": [
    "print(raw_data[\"Text\"].head(10))"
   ],
   "outputs": [
    {
     "output_type": "stream",
     "name": "stdout",
     "text": [
      "0    I have bought several of the Vitality canned d...\n",
      "1    Product arrived labeled as Jumbo Salted Peanut...\n",
      "2    This is a confection that has been around a fe...\n",
      "3    If you are looking for the secret ingredient i...\n",
      "4    Great taffy at a great price.  There was a wid...\n",
      "5    I got a wild hair for taffy and ordered this f...\n",
      "6    This saltwater taffy had great flavors and was...\n",
      "7    This taffy is so good.  It is very soft and ch...\n",
      "8    Right now I'm mostly just sprouting this so my...\n",
      "9    This is a very healthy dog food. Good for thei...\n",
      "Name: Text, dtype: object\n"
     ]
    }
   ],
   "metadata": {}
  },
  {
   "cell_type": "code",
   "execution_count": 6,
   "source": [
    "# Just for faster computation use first 50000 rows \n",
    "# ************************************Remove Later********************************************\n",
    "raw_data = raw_data[:250000]\n",
    "# ********************************************************************************************"
   ],
   "outputs": [],
   "metadata": {}
  },
  {
   "cell_type": "code",
   "execution_count": 7,
   "source": [
    "raw_data.shape"
   ],
   "outputs": [
    {
     "output_type": "execute_result",
     "data": {
      "text/plain": [
       "(250000, 10)"
      ]
     },
     "metadata": {},
     "execution_count": 7
    }
   ],
   "metadata": {}
  },
  {
   "cell_type": "code",
   "execution_count": 8,
   "source": [
    "# Drop rows with rating/score as 3.\n",
    "value_to_drop = 3\n",
    "\n",
    "# Drop rows where 'Score' has value 3.\n",
    "raw_data = raw_data[raw_data['Score'] != value_to_drop]"
   ],
   "outputs": [],
   "metadata": {}
  },
  {
   "cell_type": "code",
   "execution_count": 9,
   "source": [
    "# After dropping row with score 3\n",
    "print(raw_data.shape)\n",
    "\n",
    "#Unique values in Score column must be 1/2/4/5.\n",
    "print(raw_data.Score.unique())"
   ],
   "outputs": [
    {
     "output_type": "stream",
     "name": "stdout",
     "text": [
      "(230478, 10)\n",
      "[5 1 4 2]\n"
     ]
    }
   ],
   "metadata": {}
  },
  {
   "cell_type": "code",
   "execution_count": 10,
   "source": [
    "# Giving 4&5 as Positive and 1&2 as Negative Rating \n",
    "def assign_values(value):\n",
    "    if value < 3:\n",
    "        return 'Negative'\n",
    "    else:\n",
    "        return 'Positive'\n",
    "\n",
    "raw_data['Review'] = raw_data['Score'].apply(assign_values)"
   ],
   "outputs": [],
   "metadata": {}
  },
  {
   "cell_type": "code",
   "execution_count": 11,
   "source": [
    "raw_data.head(5)"
   ],
   "outputs": [
    {
     "output_type": "execute_result",
     "data": {
      "text/html": [
       "<div>\n",
       "<style scoped>\n",
       "    .dataframe tbody tr th:only-of-type {\n",
       "        vertical-align: middle;\n",
       "    }\n",
       "\n",
       "    .dataframe tbody tr th {\n",
       "        vertical-align: top;\n",
       "    }\n",
       "\n",
       "    .dataframe thead th {\n",
       "        text-align: right;\n",
       "    }\n",
       "</style>\n",
       "<table border=\"1\" class=\"dataframe\">\n",
       "  <thead>\n",
       "    <tr style=\"text-align: right;\">\n",
       "      <th></th>\n",
       "      <th>Id</th>\n",
       "      <th>ProductId</th>\n",
       "      <th>UserId</th>\n",
       "      <th>ProfileName</th>\n",
       "      <th>HelpfulnessNumerator</th>\n",
       "      <th>HelpfulnessDenominator</th>\n",
       "      <th>Score</th>\n",
       "      <th>Time</th>\n",
       "      <th>Summary</th>\n",
       "      <th>Text</th>\n",
       "      <th>Review</th>\n",
       "    </tr>\n",
       "  </thead>\n",
       "  <tbody>\n",
       "    <tr>\n",
       "      <th>0</th>\n",
       "      <td>1</td>\n",
       "      <td>B001E4KFG0</td>\n",
       "      <td>A3SGXH7AUHU8GW</td>\n",
       "      <td>delmartian</td>\n",
       "      <td>1</td>\n",
       "      <td>1</td>\n",
       "      <td>5</td>\n",
       "      <td>1303862400</td>\n",
       "      <td>Good Quality Dog Food</td>\n",
       "      <td>I have bought several of the Vitality canned d...</td>\n",
       "      <td>Positive</td>\n",
       "    </tr>\n",
       "    <tr>\n",
       "      <th>1</th>\n",
       "      <td>2</td>\n",
       "      <td>B00813GRG4</td>\n",
       "      <td>A1D87F6ZCVE5NK</td>\n",
       "      <td>dll pa</td>\n",
       "      <td>0</td>\n",
       "      <td>0</td>\n",
       "      <td>1</td>\n",
       "      <td>1346976000</td>\n",
       "      <td>Not as Advertised</td>\n",
       "      <td>Product arrived labeled as Jumbo Salted Peanut...</td>\n",
       "      <td>Negative</td>\n",
       "    </tr>\n",
       "    <tr>\n",
       "      <th>2</th>\n",
       "      <td>3</td>\n",
       "      <td>B000LQOCH0</td>\n",
       "      <td>ABXLMWJIXXAIN</td>\n",
       "      <td>Natalia Corres \"Natalia Corres\"</td>\n",
       "      <td>1</td>\n",
       "      <td>1</td>\n",
       "      <td>4</td>\n",
       "      <td>1219017600</td>\n",
       "      <td>\"Delight\" says it all</td>\n",
       "      <td>This is a confection that has been around a fe...</td>\n",
       "      <td>Positive</td>\n",
       "    </tr>\n",
       "    <tr>\n",
       "      <th>3</th>\n",
       "      <td>4</td>\n",
       "      <td>B000UA0QIQ</td>\n",
       "      <td>A395BORC6FGVXV</td>\n",
       "      <td>Karl</td>\n",
       "      <td>3</td>\n",
       "      <td>3</td>\n",
       "      <td>2</td>\n",
       "      <td>1307923200</td>\n",
       "      <td>Cough Medicine</td>\n",
       "      <td>If you are looking for the secret ingredient i...</td>\n",
       "      <td>Negative</td>\n",
       "    </tr>\n",
       "    <tr>\n",
       "      <th>4</th>\n",
       "      <td>5</td>\n",
       "      <td>B006K2ZZ7K</td>\n",
       "      <td>A1UQRSCLF8GW1T</td>\n",
       "      <td>Michael D. Bigham \"M. Wassir\"</td>\n",
       "      <td>0</td>\n",
       "      <td>0</td>\n",
       "      <td>5</td>\n",
       "      <td>1350777600</td>\n",
       "      <td>Great taffy</td>\n",
       "      <td>Great taffy at a great price.  There was a wid...</td>\n",
       "      <td>Positive</td>\n",
       "    </tr>\n",
       "  </tbody>\n",
       "</table>\n",
       "</div>"
      ],
      "text/plain": [
       "   Id   ProductId          UserId                      ProfileName  \\\n",
       "0   1  B001E4KFG0  A3SGXH7AUHU8GW                       delmartian   \n",
       "1   2  B00813GRG4  A1D87F6ZCVE5NK                           dll pa   \n",
       "2   3  B000LQOCH0   ABXLMWJIXXAIN  Natalia Corres \"Natalia Corres\"   \n",
       "3   4  B000UA0QIQ  A395BORC6FGVXV                             Karl   \n",
       "4   5  B006K2ZZ7K  A1UQRSCLF8GW1T    Michael D. Bigham \"M. Wassir\"   \n",
       "\n",
       "   HelpfulnessNumerator  HelpfulnessDenominator  Score        Time  \\\n",
       "0                     1                       1      5  1303862400   \n",
       "1                     0                       0      1  1346976000   \n",
       "2                     1                       1      4  1219017600   \n",
       "3                     3                       3      2  1307923200   \n",
       "4                     0                       0      5  1350777600   \n",
       "\n",
       "                 Summary                                               Text  \\\n",
       "0  Good Quality Dog Food  I have bought several of the Vitality canned d...   \n",
       "1      Not as Advertised  Product arrived labeled as Jumbo Salted Peanut...   \n",
       "2  \"Delight\" says it all  This is a confection that has been around a fe...   \n",
       "3         Cough Medicine  If you are looking for the secret ingredient i...   \n",
       "4            Great taffy  Great taffy at a great price.  There was a wid...   \n",
       "\n",
       "     Review  \n",
       "0  Positive  \n",
       "1  Negative  \n",
       "2  Positive  \n",
       "3  Negative  \n",
       "4  Positive  "
      ]
     },
     "metadata": {},
     "execution_count": 11
    }
   ],
   "metadata": {}
  },
  {
   "cell_type": "code",
   "execution_count": 12,
   "source": [
    "# Checking for duplicate Reviews \n",
    "boolean = not raw_data[\"Text\"].is_unique      \n",
    "boolean = raw_data['Text'].duplicated().any()\n",
    "print(boolean)"
   ],
   "outputs": [
    {
     "output_type": "stream",
     "name": "stdout",
     "text": [
      "True\n"
     ]
    }
   ],
   "metadata": {}
  },
  {
   "cell_type": "code",
   "execution_count": 13,
   "source": [
    "# Drop duplicated Reviews\n",
    "raw_data = raw_data.drop_duplicates(subset='Text', keep='first')\n",
    "\n",
    "# Check the shape\n",
    "print(raw_data.shape)"
   ],
   "outputs": [
    {
     "output_type": "stream",
     "name": "stdout",
     "text": [
      "(182285, 11)\n"
     ]
    }
   ],
   "metadata": {}
  },
  {
   "cell_type": "code",
   "execution_count": 14,
   "source": [
    "# Check if HelpfulnessNumerator is less than HelpfulnessDenominator, If so then drop those rows\n",
    "raw_data=raw_data[raw_data.HelpfulnessNumerator<=raw_data.HelpfulnessDenominator]\n",
    "print(raw_data.shape)\n",
    "\n",
    "# The observations in the dataset dropped from 568454 to 363834 as there were a lot of Duplicate Reviews and Number of people who found review helpful cannot be greater than number of people who viewed the review. These rows were dropped\n",
    "\n",
    "# # Check proportions of categories in output label:\n",
    "# raw_data['Review'].value_counts()"
   ],
   "outputs": [
    {
     "output_type": "stream",
     "name": "stdout",
     "text": [
      "(182283, 11)\n"
     ]
    }
   ],
   "metadata": {}
  },
  {
   "cell_type": "code",
   "execution_count": 15,
   "source": [
    "# Apply clean_text function to clean the text column.\n",
    "raw_data['Clean_Text'] = raw_data['Text'].apply(lambda x: clean_text(x))"
   ],
   "outputs": [],
   "metadata": {}
  },
  {
   "cell_type": "code",
   "execution_count": 16,
   "source": [
    "print(raw_data[\"Text\"].head(10))"
   ],
   "outputs": [
    {
     "output_type": "stream",
     "name": "stdout",
     "text": [
      "0    I have bought several of the Vitality canned d...\n",
      "1    Product arrived labeled as Jumbo Salted Peanut...\n",
      "2    This is a confection that has been around a fe...\n",
      "3    If you are looking for the secret ingredient i...\n",
      "4    Great taffy at a great price.  There was a wid...\n",
      "5    I got a wild hair for taffy and ordered this f...\n",
      "6    This saltwater taffy had great flavors and was...\n",
      "7    This taffy is so good.  It is very soft and ch...\n",
      "8    Right now I'm mostly just sprouting this so my...\n",
      "9    This is a very healthy dog food. Good for thei...\n",
      "Name: Text, dtype: object\n"
     ]
    }
   ],
   "metadata": {}
  },
  {
   "cell_type": "code",
   "execution_count": 17,
   "source": [
    "# Apply text preprocessing to the 'Text' column from data-preprocessing.py file \n",
    "raw_data['Clean_Text'] = raw_data['Clean_Text'].apply(preprocess_text)"
   ],
   "outputs": [],
   "metadata": {}
  },
  {
   "cell_type": "code",
   "execution_count": 18,
   "source": [
    "# Comparing the Original Text and the processed text\n",
    "print(raw_data[\"Text\"][1])\n",
    "\n",
    "print(\"\\n After Processing of Text \\n\")\n",
    "\n",
    "print(raw_data[\"Clean_Text\"][1])"
   ],
   "outputs": [
    {
     "output_type": "stream",
     "name": "stdout",
     "text": [
      "Product arrived labeled as Jumbo Salted Peanuts...the peanuts were actually small sized unsalted. Not sure if this was an error or if the vendor intended to represent the product as \"Jumbo\".\n",
      "\n",
      " After Processing of Text \n",
      "\n",
      "product arriv label jumbo salt peanutsth peanut actual small size unsalt not sure error vendor intend repres product jumbo\n"
     ]
    }
   ],
   "metadata": {}
  },
  {
   "cell_type": "code",
   "execution_count": 19,
   "source": [
    "# Converting sentence into words using sentence_to_words function from the data_preprocessing file\n",
    "list_of_words_in_sentance = sentence_to_words(raw_data, 'Clean_Text')"
   ],
   "outputs": [],
   "metadata": {}
  },
  {
   "cell_type": "code",
   "execution_count": 20,
   "source": [
    "raw_data[\"Clean_Text\"].iloc[0]"
   ],
   "outputs": [
    {
     "output_type": "execute_result",
     "data": {
      "text/plain": [
       "'bought sever vital can dog food product found good qualiti the product look like stew process meat smell better labrador finicki appreci product better'"
      ]
     },
     "metadata": {},
     "execution_count": 20
    }
   ],
   "metadata": {}
  },
  {
   "cell_type": "code",
   "execution_count": 21,
   "source": [
    "print(raw_data['Clean_Text'])"
   ],
   "outputs": [
    {
     "output_type": "stream",
     "name": "stdout",
     "text": [
      "0         bought sever vital can dog food product found ...\n",
      "1         product arriv label jumbo salt peanutsth peanu...\n",
      "2         this confect around centuri light pillowi citr...\n",
      "3         look secret ingredi robitussin believ found go...\n",
      "4         great taffi great price there wide assort yumm...\n",
      "                                ...                        \n",
      "249897    bought product great australian live difficult...\n",
      "249898    yes pictur incorrect you get two pack singl pa...\n",
      "249899    when purchas keep mind pictur dishonest mislea...\n",
      "249900    what pictur show fun dip tripl pack come flavo...\n",
      "249902    this far absolut best cake mix ever tri sinc g...\n",
      "Name: Clean_Text, Length: 182283, dtype: object\n"
     ]
    }
   ],
   "metadata": {}
  },
  {
   "cell_type": "code",
   "execution_count": 22,
   "source": [
    "print(f\"Sentence cleaned: {raw_data['Clean_Text'].values[0]}\")\n",
    "print(f\"Words in cleaned sentence{list_of_words_in_sentance[0]}\")"
   ],
   "outputs": [
    {
     "output_type": "stream",
     "name": "stdout",
     "text": [
      "Sentence cleaned: bought sever vital can dog food product found good qualiti the product look like stew process meat smell better labrador finicki appreci product better\n",
      "Words in cleaned sentence['bought', 'sever', 'vital', 'can', 'dog', 'food', 'product', 'found', 'good', 'qualiti', 'the', 'product', 'look', 'like', 'stew', 'process', 'meat', 'smell', 'better', 'labrador', 'finicki', 'appreci', 'product', 'better']\n"
     ]
    }
   ],
   "metadata": {}
  },
  {
   "cell_type": "markdown",
   "source": [
    " Time Based Splitting"
   ],
   "metadata": {}
  },
  {
   "cell_type": "code",
   "execution_count": 23,
   "source": [
    "final_reviews = raw_data.sort_values('Time', axis=0, ascending=True, inplace=False, kind='quicksort', na_position='last')\n",
    "final_reviews.shape"
   ],
   "outputs": [
    {
     "output_type": "execute_result",
     "data": {
      "text/plain": [
       "(182283, 12)"
      ]
     },
     "metadata": {},
     "execution_count": 23
    }
   ],
   "metadata": {}
  },
  {
   "cell_type": "code",
   "execution_count": 24,
   "source": [
    "# Label Encoding Reviews Column\n",
    "label_encoder = LabelEncoder()\n",
    "\n",
    "# Fit and transform the \"Review\" column\n",
    "raw_data['Review'] = label_encoder.fit_transform(raw_data['Review'])"
   ],
   "outputs": [],
   "metadata": {}
  },
  {
   "cell_type": "markdown",
   "source": [
    " Train and Test Split"
   ],
   "metadata": {}
  },
  {
   "cell_type": "code",
   "execution_count": 25,
   "source": [
    "# Splitting data into train, Train and Test \n",
    "X = raw_data['Clean_Text']\n",
    "Y = raw_data['Review']\n",
    "\n",
    "X_train, X_test, Y_train, Y_test = train_test_split(X, Y, test_size=.20, random_state=123)\n",
    "\n",
    "print('X_train, Y_train', X_train.shape, Y_train.shape)\n",
    "print('X_test, Y_test', X_test.shape, Y_test.shape)"
   ],
   "outputs": [
    {
     "output_type": "stream",
     "name": "stdout",
     "text": [
      "X_train, Y_train (145826,) (145826,)\n",
      "X_test, Y_test (36457,) (36457,)\n"
     ]
    }
   ],
   "metadata": {}
  },
  {
   "cell_type": "markdown",
   "source": [
    "# Bag of Words"
   ],
   "metadata": {}
  },
  {
   "cell_type": "code",
   "execution_count": 26,
   "source": [
    "# Bag Of Words\n",
    "Count_vectorizer = CountVectorizer()\n",
    "X_train_bow = Count_vectorizer.fit_transform(X_train.values)\n",
    "print(f\"Shape of dataset after converting into BOW is {X_train_bow.get_shape()}\")\n",
    "X_test_bow = Count_vectorizer.transform(X_test.values)  # Use transform instead of fit_transform\n",
    "print(f\"Shape of dataset after converting into BOW is {X_test_bow.get_shape()}\")"
   ],
   "outputs": [
    {
     "output_type": "stream",
     "name": "stdout",
     "text": [
      "Shape of dataset after converting into BOW is (145826, 102749)\n",
      "Shape of dataset after converting into BOW is (36457, 102749)\n"
     ]
    }
   ],
   "metadata": {}
  },
  {
   "cell_type": "code",
   "execution_count": 27,
   "source": [
    "# Normalize BOW Train and Test Data\n",
    "X_train_bow=preprocessing.normalize(X_train_bow)\n",
    "X_test_bow=preprocessing.normalize(X_test_bow)\n",
    "print(\"The shape of out text BOW vectorizer \",X_train_bow.get_shape())\n",
    "print(\"Test Data Size: \",X_test_bow.shape)"
   ],
   "outputs": [
    {
     "output_type": "stream",
     "name": "stdout",
     "text": [
      "The shape of out text BOW vectorizer  (145826, 102749)\n",
      "Test Data Size:  (36457, 102749)\n"
     ]
    }
   ],
   "metadata": {}
  },
  {
   "cell_type": "markdown",
   "source": [
    "# Uni, Bi and Tri Grams"
   ],
   "metadata": {}
  },
  {
   "cell_type": "code",
   "execution_count": 28,
   "source": [
    "Count_vectorizer_n_grams = CountVectorizer(ngram_range=(1,3) ) \n",
    "X_train_n_grams = Count_vectorizer_n_grams.fit_transform(X_train.values)\n",
    "print(\"Shape of dataset after converting into uni, bi and tri-grams is \",X_train_n_grams.get_shape())\n",
    "X_test_n_grams = Count_vectorizer_n_grams.transform(X_test.values)\n",
    "print(\"Shape of dataset after converting into uni, bi and tri-grams is \",X_test_n_grams.get_shape())"
   ],
   "outputs": [
    {
     "output_type": "stream",
     "name": "stdout",
     "text": [
      "Shape of dataset after converting into uni, bi and tri-grams is  (145826, 6311356)\n",
      "Shape of dataset after converting into uni, bi and tri-grams is  (36457, 6311356)\n"
     ]
    }
   ],
   "metadata": {}
  },
  {
   "cell_type": "markdown",
   "source": [
    "# Tf-Idf Vectorization"
   ],
   "metadata": {}
  },
  {
   "cell_type": "code",
   "execution_count": 29,
   "source": [
    "# tf-idf Vectorizer\n",
    "tf_idf_vectorizer = TfidfVectorizer(ngram_range=(1, 2))\n",
    "\n",
    "X_train_tf_idf_vectorizer = tf_idf_vectorizer.fit_transform(X_train.values)\n",
    "X_test_tf_idf_vectorizer = tf_idf_vectorizer.transform(X_test.values)\n",
    "\n",
    "print(\"Shape of train dataset after converting into tf-idf is \", X_train_tf_idf_vectorizer.get_shape())\n",
    "print(\"Shape of test dataset after converting into tf-idf is \", X_test_tf_idf_vectorizer.get_shape())"
   ],
   "outputs": [
    {
     "output_type": "stream",
     "name": "stdout",
     "text": [
      "Shape of train dataset after converting into tf-idf is  (145826, 1817919)\n",
      "Shape of test dataset after converting into tf-idf is  (36457, 1817919)\n"
     ]
    }
   ],
   "metadata": {}
  },
  {
   "cell_type": "code",
   "execution_count": 30,
   "source": [
    "# Normalize Tf-Idf Train and Test Data\n",
    "X_train_tfidf=preprocessing.normalize(X_train_tf_idf_vectorizer)\n",
    "X_test_tfidf=preprocessing.normalize(X_test_tf_idf_vectorizer)\n",
    "print(\"Train Data Size: \",X_train_tfidf.get_shape())\n",
    "print(\"Test Data Size: \",X_test_tfidf.shape)"
   ],
   "outputs": [
    {
     "output_type": "stream",
     "name": "stdout",
     "text": [
      "Train Data Size:  (145826, 1817919)\n",
      "Test Data Size:  (36457, 1817919)\n"
     ]
    }
   ],
   "metadata": {}
  },
  {
   "cell_type": "markdown",
   "source": [
    "# word2vec Model\n",
    " Making word2vec model using our data set and the same model will be used further."
   ],
   "metadata": {}
  },
  {
   "cell_type": "code",
   "execution_count": 31,
   "source": [
    "# Training word2vec model on our own data.\n",
    "w2v_model=gensim.models.Word2Vec(list_of_words_in_sentance,min_count=5, workers=4) "
   ],
   "outputs": [],
   "metadata": {}
  },
  {
   "cell_type": "code",
   "execution_count": 32,
   "source": [
    "# Saving the vocabolary of words in our trained word2vec model\n",
    "w2v_vocab = list(w2v_model.wv.key_to_index)"
   ],
   "outputs": [],
   "metadata": {}
  },
  {
   "cell_type": "code",
   "execution_count": 33,
   "source": [
    "# Get the top 10 words most similar words to \"quality\"\n",
    "w2v_model.wv.most_similar('good')"
   ],
   "outputs": [
    {
     "output_type": "execute_result",
     "data": {
      "text/plain": [
       "[('great', 0.7536801695823669),\n",
       " ('decent', 0.73526930809021),\n",
       " ('excel', 0.6393976211547852),\n",
       " ('awesom', 0.6263736486434937),\n",
       " ('bad', 0.5943878293037415),\n",
       " ('terrif', 0.5933353900909424),\n",
       " ('fantast', 0.5791688561439514),\n",
       " ('nice', 0.567089855670929),\n",
       " ('tasti', 0.5610722899436951),\n",
       " ('like', 0.5277270674705505)]"
      ]
     },
     "metadata": {},
     "execution_count": 33
    }
   ],
   "metadata": {}
  },
  {
   "cell_type": "code",
   "execution_count": 34,
   "source": [
    "raw_data.shape[0]"
   ],
   "outputs": [
    {
     "output_type": "execute_result",
     "data": {
      "text/plain": [
       "182283"
      ]
     },
     "metadata": {},
     "execution_count": 34
    }
   ],
   "metadata": {}
  },
  {
   "cell_type": "markdown",
   "source": [
    "# Average word2vec"
   ],
   "metadata": {}
  },
  {
   "cell_type": "code",
   "execution_count": 35,
   "source": [
    "sent_vectors_avg_word2vec = []; # The avg-w2v for each sentence/review is stored in this list\n",
    "vector_size = len(w2v_model.wv['good']) \n",
    "\n",
    "for sent in tqdm(list_of_words_in_sentance): # Iterating over each review/sentence\n",
    "    sent_vec = np.zeros(vector_size) \n",
    "    cnt_words =0; \n",
    "    for word in sent: # Iterating over each word in a review/sentence\n",
    "        if word in w2v_vocab:\n",
    "            vec = w2v_model.wv[word]\n",
    "            sent_vec += vec\n",
    "            cnt_words += 1\n",
    "    if cnt_words != 0:\n",
    "        sent_vec /= cnt_words\n",
    "    sent_vectors_avg_word2vec.append(sent_vec)\n",
    "print(len(sent_vectors_avg_word2vec))"
   ],
   "outputs": [
    {
     "output_type": "stream",
     "name": "stderr",
     "text": [
      "100%|██████████| 182283/182283 [02:39<00:00, 1146.39it/s]"
     ]
    },
    {
     "output_type": "stream",
     "name": "stdout",
     "text": [
      "182283\n"
     ]
    },
    {
     "output_type": "stream",
     "name": "stderr",
     "text": [
      "\n"
     ]
    }
   ],
   "metadata": {}
  },
  {
   "cell_type": "code",
   "execution_count": 36,
   "source": [
    "X_train_avg_wor2vec, X_test_avg_wor2vec, Y_train_avg_wor2vec, Y_test_avg_wor2vec = train_test_split(sent_vectors_avg_word2vec,Y, test_size=.20, random_state=0)\n",
    "X_train_avg_wor2vec=preprocessing.normalize(X_train_avg_wor2vec)\n",
    "X_test_avg_wor2vec=preprocessing.normalize(X_test_avg_wor2vec)\n",
    "print(X_train_avg_wor2vec.shape)\n",
    "print(X_test_avg_wor2vec.shape)"
   ],
   "outputs": [
    {
     "output_type": "stream",
     "name": "stdout",
     "text": [
      "(145826, 100)\n",
      "(36457, 100)\n"
     ]
    }
   ],
   "metadata": {}
  },
  {
   "cell_type": "markdown",
   "source": [
    "# Tf-Idf Word2vec"
   ],
   "metadata": {}
  },
  {
   "cell_type": "code",
   "execution_count": 37,
   "source": [
    "tfidf_model = TfidfVectorizer()\n",
    "tf_idf_matrix = tfidf_model.fit_transform(raw_data['Clean_Text'].values)\n",
    "# we are converting a dictionary with word as a key, and the idf as a value\n",
    "dictionary = dict(zip(tfidf_model.get_feature_names_out(), list(tfidf_model.idf_)))\n",
    "\n",
    "# TF-IDF weighted Word2Vec\n",
    "tfidf_feat = tfidf_model.get_feature_names_out() # tfidf words/col-names\n",
    "# final_tf_idf is the sparse matrix with row= sentence, col=word and cell_val = tfidf\n",
    "\n",
    "tfidf_sent_vectors = []; # the tfidf-w2v for each sentence/review is stored in this list\n",
    "row=0;\n",
    "for sent in tqdm(list_of_words_in_sentance): # for each review/sentence \n",
    "    sent_vec = np.zeros(vector_size) # as word vectors are of zero length\n",
    "    weight_sum =0; # num of words with a valid vector in the sentence/review\n",
    "    for word in sent: # for each word in a review/sentence\n",
    "        if word in w2v_vocab:\n",
    "            vec = w2v_model.wv[word]\n",
    "            #  tf_idf = tf_idf_matrix[row, tfidf_feat.index(word)]\n",
    "            # to reduce the computation we are \n",
    "            # dictionary[word] = idf value of word in whole courpus\n",
    "            # sent.count(word) = tf valeus of word in this review\n",
    "            tf_idf = dictionary[word]*(sent.count(word)/len(sent))\n",
    "            sent_vec += (vec * tf_idf)\n",
    "            weight_sum += tf_idf\n",
    "    if weight_sum != 0:\n",
    "        sent_vec /= weight_sum\n",
    "    tfidf_sent_vectors.append(sent_vec)\n",
    "    row += 1\n",
    "\n",
    "X_train_tfidf_word2vec, X_test_tfidf_word2vec, Y_train_tfidf_wor2vec, Y_test_tfidf_wor2vec = train_test_split(tfidf_sent_vectors, Y, test_size=0.20,random_state=0)\n",
    "X_train_tfidf_word2vec=preprocessing.normalize(X_train_tfidf_word2vec)\n",
    "X_test_tfidf_word2vec=preprocessing.normalize(X_test_tfidf_word2vec)\n",
    "print(X_train_tfidf_word2vec.shape)\n",
    "print(X_test_tfidf_word2vec.shape)"
   ],
   "outputs": [
    {
     "output_type": "stream",
     "name": "stderr",
     "text": [
      "100%|██████████| 182283/182283 [03:17<00:00, 922.76it/s] \n"
     ]
    },
    {
     "output_type": "stream",
     "name": "stdout",
     "text": [
      "(145826, 100)\n",
      "(36457, 100)\n"
     ]
    }
   ],
   "metadata": {}
  },
  {
   "cell_type": "markdown",
   "source": [
    " KNN on Bag of Words"
   ],
   "metadata": {}
  },
  {
   "cell_type": "code",
   "execution_count": 38,
   "source": [
    "auc_score_bow_test_KNN, accuracy_bow_test_KNN = KNN_train_simple_cv(X_train_bow, Y_train, X_test_bow, Y_test)"
   ],
   "outputs": [
    {
     "output_type": "stream",
     "name": "stdout",
     "text": [
      "1 - AUC Score (CV): 0.532006661825148  Accuracy (CV): 0.8325125200008312\n",
      "3 - AUC Score (CV): 0.643451093569311  Accuracy (CV): 0.8403050516385097\n",
      "5 - AUC Score (CV): 0.725266866599416  Accuracy (CV): 0.8510275751719552\n",
      "7 - AUC Score (CV): 0.7594325159562544  Accuracy (CV): 0.8528146624275295\n",
      "9 - AUC Score (CV): 0.7784850273566114  Accuracy (CV): 0.8535004052116452\n",
      "11 - AUC Score (CV): 0.7917764950241452  Accuracy (CV): 0.8549134509486108\n",
      "13 - AUC Score (CV): 0.7992726687087726  Accuracy (CV): 0.8546225297674709\n",
      "15 - AUC Score (CV): 0.8057551292978132  Accuracy (CV): 0.855225152214118\n",
      "17 - AUC Score (CV): 0.8123067515074274  Accuracy (CV): 0.8546640899362051\n",
      "19 - AUC Score (CV): 0.8172304943472747  Accuracy (CV): 0.8547264301893066\n",
      "21 - AUC Score (CV): 0.8209803984605099  Accuracy (CV): 0.8549965712860794\n",
      "23 - AUC Score (CV): 0.8243233473148418  Accuracy (CV): 0.8547679903580409\n",
      "Best k-value based on AUC: 23\n",
      "Best accuracy: 0.855225152214118\n"
     ]
    },
    {
     "output_type": "display_data",
     "data": {
      "image/png": "[encoded data removed]",
      "text/plain": [
       "<Figure size 432x288 with 1 Axes>"
      ]
     },
     "metadata": {
      "needs_background": "light"
     }
    },
    {
     "output_type": "display_data",
     "data": {
      "image/png": "[encoded data removed]",
      "text/plain": [
       "<Figure size 432x288 with 1 Axes>"
      ]
     },
     "metadata": {
      "needs_background": "light"
     }
    },
    {
     "output_type": "display_data",
     "data": {
      "image/png": "[encoded data removed]",
      "text/plain": [
       "<Figure size 432x288 with 2 Axes>"
      ]
     },
     "metadata": {
      "needs_background": "light"
     }
    },
    {
     "output_type": "display_data",
     "data": {
      "image/png": "[encoded data removed]",
      "text/plain": [
       "<Figure size 432x288 with 2 Axes>"
      ]
     },
     "metadata": {
      "needs_background": "light"
     }
    },
    {
     "output_type": "stream",
     "name": "stdout",
     "text": [
      "158788    1\n",
      "111053    1\n",
      "86185     1\n",
      "59085     1\n",
      "124796    1\n",
      "         ..\n",
      "2480      0\n",
      "216585    0\n",
      "211529    1\n",
      "9532      1\n",
      "61789     1\n",
      "Name: Review, Length: 36457, dtype: int32 \n",
      "\n",
      "[0.91304348 1.         1.         ... 0.82608696 0.95652174 0.95652174] \n",
      "\n",
      "[1 1 1 ... 1 1 1] \n",
      "\n",
      "AUC Score (Test): 0.8322527745740999\n",
      "Accuracy (Test): 0.8569273390569713\n"
     ]
    }
   ],
   "metadata": {}
  },
  {
   "cell_type": "markdown",
   "source": [
    " KNN on tf-idf"
   ],
   "metadata": {}
  },
  {
   "cell_type": "code",
   "execution_count": 39,
   "source": [
    "auc_score_tf_idf_test_KNN, accuracy_tf_idf_test_KNN = KNN_train_simple_cv(X_train_tfidf, Y_train, X_test_tfidf, Y_test)"
   ],
   "outputs": [
    {
     "output_type": "stream",
     "name": "stdout",
     "text": [
      "1 - AUC Score (CV): 0.5035481505820987  Accuracy (CV): 0.8427363215094653\n",
      "3 - AUC Score (CV): 0.6307698594817743  Accuracy (CV): 0.8417804376285768\n",
      "5 - AUC Score (CV): 0.7080331006783646  Accuracy (CV): 0.8508821145813852\n",
      "7 - AUC Score (CV): 0.7440971378379984  Accuracy (CV): 0.8539783471520894\n",
      "9 - AUC Score (CV): 0.767309691062647  Accuracy (CV): 0.855225152214118\n",
      "11 - AUC Score (CV): 0.7821994124519241  Accuracy (CV): 0.8557238742389294\n",
      "13 - AUC Score (CV): 0.7952291363929963  Accuracy (CV): 0.8560355755044365\n",
      "15 - AUC Score (CV): 0.8024170400025487  Accuracy (CV): 0.8561394759262723\n",
      "17 - AUC Score (CV): 0.8093558843232438  Accuracy (CV): 0.8560771356731708\n",
      "19 - AUC Score (CV): 0.8154041151958235  Accuracy (CV): 0.8559940153357023\n",
      "21 - AUC Score (CV): 0.8213704368148916  Accuracy (CV): 0.8558693348294995\n",
      "23 - AUC Score (CV): 0.8251657184179947  Accuracy (CV): 0.8554329530577894\n",
      "Best k-value based on AUC: 23\n",
      "Best accuracy: 0.8561394759262723\n"
     ]
    },
    {
     "output_type": "display_data",
     "data": {
      "image/png": "[encoded data removed]",
      "text/plain": [
       "<Figure size 432x288 with 1 Axes>"
      ]
     },
     "metadata": {
      "needs_background": "light"
     }
    },
    {
     "output_type": "display_data",
     "data": {
      "image/png": "[encoded data removed]",
      "text/plain": [
       "<Figure size 432x288 with 1 Axes>"
      ]
     },
     "metadata": {
      "needs_background": "light"
     }
    },
    {
     "output_type": "display_data",
     "data": {
      "image/png": "[encoded data removed]",
      "text/plain": [
       "<Figure size 432x288 with 2 Axes>"
      ]
     },
     "metadata": {
      "needs_background": "light"
     }
    },
    {
     "output_type": "display_data",
     "data": {
      "image/png": "[encoded data removed]",
      "text/plain": [
       "<Figure size 432x288 with 2 Axes>"
      ]
     },
     "metadata": {
      "needs_background": "light"
     }
    },
    {
     "output_type": "stream",
     "name": "stdout",
     "text": [
      "158788    1\n",
      "111053    1\n",
      "86185     1\n",
      "59085     1\n",
      "124796    1\n",
      "         ..\n",
      "2480      0\n",
      "216585    0\n",
      "211529    1\n",
      "9532      1\n",
      "61789     1\n",
      "Name: Review, Length: 36457, dtype: int32 \n",
      "\n",
      "[0.73913043 0.95652174 0.91304348 ... 0.86956522 0.95652174 0.91304348] \n",
      "\n",
      "[1 1 1 ... 1 1 1] \n",
      "\n",
      "AUC Score (Test): 0.8340207178893938\n",
      "Accuracy (Test): 0.8574759305483172\n"
     ]
    }
   ],
   "metadata": {}
  },
  {
   "cell_type": "markdown",
   "source": [
    " KNN on Tf-Idf word2vec"
   ],
   "metadata": {}
  },
  {
   "cell_type": "code",
   "execution_count": 40,
   "source": [
    "auc_score_word2vec_test_KNN, accuracy_bword2vec_test_KNN = KNN_train_simple_cv(X_train_tfidf_word2vec, Y_train_tfidf_wor2vec, X_test_tfidf_word2vec, Y_test_tfidf_wor2vec)"
   ],
   "outputs": [
    {
     "output_type": "stream",
     "name": "stdout",
     "text": [
      "1 - AUC Score (CV): 0.6697676428765391  Accuracy (CV): 0.824616087941317\n",
      "3 - AUC Score (CV): 0.7599045850001178  Accuracy (CV): 0.8559940153357023\n",
      "5 - AUC Score (CV): 0.7937195804064338  Accuracy (CV): 0.8655320740602207\n",
      "7 - AUC Score (CV): 0.8105057721831281  Accuracy (CV): 0.8691893689088378\n",
      "9 - AUC Score (CV): 0.8209090551154061  Accuracy (CV): 0.8707894354051078\n",
      "11 - AUC Score (CV): 0.8289948114312905  Accuracy (CV): 0.8720154603827691\n",
      "13 - AUC Score (CV): 0.8353210727386686  Accuracy (CV): 0.8720570205515035\n",
      "15 - AUC Score (CV): 0.8388415622208556  Accuracy (CV): 0.8720362404671363\n",
      "17 - AUC Score (CV): 0.8415687314366614  Accuracy (CV): 0.8717037591172621\n",
      "19 - AUC Score (CV): 0.8442116129740433  Accuracy (CV): 0.8715998586954263\n",
      "21 - AUC Score (CV): 0.8459543349328597  Accuracy (CV): 0.8713920578517549\n",
      "23 - AUC Score (CV): 0.8485245988229295  Accuracy (CV): 0.8714751781892235\n",
      "Best k-value based on AUC: 23\n",
      "Best accuracy: 0.8720570205515035\n"
     ]
    },
    {
     "output_type": "display_data",
     "data": {
      "image/png": "[encoded data removed]",
      "text/plain": [
       "<Figure size 432x288 with 1 Axes>"
      ]
     },
     "metadata": {
      "needs_background": "light"
     }
    },
    {
     "output_type": "display_data",
     "data": {
      "image/png": "[encoded data removed]",
      "text/plain": [
       "<Figure size 432x288 with 1 Axes>"
      ]
     },
     "metadata": {
      "needs_background": "light"
     }
    },
    {
     "output_type": "display_data",
     "data": {
      "image/png": "[encoded data removed]",
      "text/plain": [
       "<Figure size 432x288 with 2 Axes>"
      ]
     },
     "metadata": {
      "needs_background": "light"
     }
    },
    {
     "output_type": "display_data",
     "data": {
      "image/png": "[encoded data removed]",
      "text/plain": [
       "<Figure size 432x288 with 2 Axes>"
      ]
     },
     "metadata": {
      "needs_background": "light"
     }
    },
    {
     "output_type": "stream",
     "name": "stdout",
     "text": [
      "26688     0\n",
      "182864    1\n",
      "107670    1\n",
      "215869    1\n",
      "79918     1\n",
      "         ..\n",
      "240596    1\n",
      "70876     1\n",
      "34789     1\n",
      "33988     1\n",
      "23453     1\n",
      "Name: Review, Length: 36457, dtype: int32 \n",
      "\n",
      "[0.56521739 1.         0.82608696 ... 1.         1.         1.        ] \n",
      "\n",
      "[1 1 1 ... 1 1 1] \n",
      "\n",
      "AUC Score (Test): 0.8589708565139166\n",
      "Accuracy (Test): 0.8758811750829745\n"
     ]
    }
   ],
   "metadata": {}
  },
  {
   "cell_type": "code",
   "execution_count": 41,
   "source": [
    "# Naive Bayes from here"
   ],
   "outputs": [],
   "metadata": {}
  },
  {
   "cell_type": "markdown",
   "source": [
    " NaiveBayes on Bag of Words"
   ],
   "metadata": {}
  },
  {
   "cell_type": "code",
   "execution_count": 42,
   "source": [
    "auc_score_bow_test_NB, accuracy_bow_test_NB = NaiveBayes_train_simple_cv(X_train_bow, Y_train, X_test_bow, Y_test)"
   ],
   "outputs": [
    {
     "output_type": "stream",
     "name": "stdout",
     "text": [
      "AUC Score (CV): 0.8623449571371984  Accuracy (CV): 0.8416765372067411\n",
      "AUC Score (Train): 0.8783855946603158  Accuracy (Train): 0.8403324360562112\n"
     ]
    },
    {
     "output_type": "display_data",
     "data": {
      "image/png": "[encoded data removed]",
      "text/plain": [
       "<Figure size 432x288 with 2 Axes>"
      ]
     },
     "metadata": {
      "needs_background": "light"
     }
    },
    {
     "output_type": "display_data",
     "data": {
      "image/png": "[encoded data removed]",
      "text/plain": [
       "<Figure size 432x288 with 2 Axes>"
      ]
     },
     "metadata": {
      "needs_background": "light"
     }
    },
    {
     "output_type": "stream",
     "name": "stdout",
     "text": [
      "AUC Score (Test): 0.8619536258181004\n",
      "Accuracy (Test): 0.8429931151767837\n"
     ]
    }
   ],
   "metadata": {}
  },
  {
   "cell_type": "markdown",
   "source": [
    " NaiveBayes on tf-idf"
   ],
   "metadata": {}
  },
  {
   "cell_type": "code",
   "execution_count": 43,
   "source": [
    "auc_score_tf_idf_test_NB, accuracy_tf_idf_test_NB = NaiveBayes_train_simple_cv(X_train_tfidf, Y_train, X_test_tfidf, Y_test)"
   ],
   "outputs": [
    {
     "output_type": "stream",
     "name": "stdout",
     "text": [
      "AUC Score (CV): 0.8118751549298404  Accuracy (CV): 0.8416973172911082\n",
      "AUC Score (Train): 0.9118889097738155  Accuracy (Train): 0.8404552572592449\n"
     ]
    },
    {
     "output_type": "display_data",
     "data": {
      "image/png": "[encoded data removed]",
      "text/plain": [
       "<Figure size 432x288 with 2 Axes>"
      ]
     },
     "metadata": {
      "needs_background": "light"
     }
    },
    {
     "output_type": "display_data",
     "data": {
      "image/png": "[encoded data removed]",
      "text/plain": [
       "<Figure size 432x288 with 2 Axes>"
      ]
     },
     "metadata": {
      "needs_background": "light"
     }
    },
    {
     "output_type": "stream",
     "name": "stdout",
     "text": [
      "AUC Score (Test): 0.7977412974789604\n",
      "Accuracy (Test): 0.8428559673039471\n"
     ]
    }
   ],
   "metadata": {}
  },
  {
   "cell_type": "markdown",
   "source": [
    " NaiveBayes on Tf-Idf word2vec"
   ],
   "metadata": {}
  },
  {
   "cell_type": "code",
   "execution_count": 44,
   "source": [
    "# auc_score_tfidf_word2vec_test_NB, accuracy_tfidf_word2vec_test_NB = NaiveBayes_train_simple_cv(X_train_tfidf_word2vec, Y_train_tfidf_wor2vec, X_test_tfidf_word2vec, Y_test_tfidf_wor2vec)"
   ],
   "outputs": [],
   "metadata": {}
  },
  {
   "cell_type": "code",
   "execution_count": 45,
   "source": [
    "# SGD Classifier from here"
   ],
   "outputs": [],
   "metadata": {}
  },
  {
   "cell_type": "markdown",
   "source": [
    " SGD Classifier on Bag of Words"
   ],
   "metadata": {}
  },
  {
   "cell_type": "code",
   "execution_count": 46,
   "source": [
    "auc_score_bow_test_SGDC, accuracy_bow_test_SGDC = SGDClassifier_train_random_search_cv(X_train_bow, Y_train, X_test_bow, Y_test)"
   ],
   "outputs": [
    {
     "output_type": "stream",
     "name": "stdout",
     "text": [
      "Best Hyperparameters: {'alpha': 1.9211659757411964e-06, 'eta0': 0.01}\n",
      "AUC Score (CV): 0.946074809857396  Accuracy (CV): 0.920827878561187\n",
      "AUC Score (Train): 0.9660827991972754  Accuracy (Train): 0.9362148552245069\n"
     ]
    },
    {
     "output_type": "display_data",
     "data": {
      "image/png": "[encoded data removed]",
      "text/plain": [
       "<Figure size 432x288 with 2 Axes>"
      ]
     },
     "metadata": {
      "needs_background": "light"
     }
    },
    {
     "output_type": "display_data",
     "data": {
      "image/png": "[encoded data removed]",
      "text/plain": [
       "<Figure size 432x288 with 2 Axes>"
      ]
     },
     "metadata": {
      "needs_background": "light"
     }
    },
    {
     "output_type": "stream",
     "name": "stdout",
     "text": [
      "158788    1\n",
      "111053    1\n",
      "86185     1\n",
      "59085     1\n",
      "124796    1\n",
      "         ..\n",
      "2480      0\n",
      "216585    0\n",
      "211529    1\n",
      "9532      1\n",
      "61789     1\n",
      "Name: Review, Length: 36457, dtype: int32 \n",
      "\n",
      "[0.99498252 0.997351   0.99280129 ... 0.95349549 0.98203647 0.80713302] \n",
      "\n",
      "[1 1 1 ... 1 1 1] \n",
      "\n",
      "AUC Score (Test): 0.9464616514389012\n",
      "Accuracy (Test): 0.9196587760923828\n"
     ]
    }
   ],
   "metadata": {}
  },
  {
   "cell_type": "markdown",
   "source": [
    " SGD Classifier on tf-idf"
   ],
   "metadata": {}
  },
  {
   "cell_type": "code",
   "execution_count": 47,
   "source": [
    "auc_score_tf_idf_test_SGDC, accuracy_tf_idf_test_SGDC = SGDClassifier_train_random_search_cv(X_train_tfidf, Y_train, X_test_tfidf, Y_test)"
   ],
   "outputs": [
    {
     "output_type": "stream",
     "name": "stdout",
     "text": [
      "Best Hyperparameters: {'alpha': 1.9211659757411964e-06, 'eta0': 0.01}\n",
      "AUC Score (CV): 0.9582384628250535  Accuracy (CV): 0.9266463021839869\n",
      "AUC Score (Train): 0.9995024371625396  Accuracy (Train): 0.9932857742341586\n"
     ]
    },
    {
     "output_type": "display_data",
     "data": {
      "image/png": "[encoded data removed]",
      "text/plain": [
       "<Figure size 432x288 with 2 Axes>"
      ]
     },
     "metadata": {
      "needs_background": "light"
     }
    },
    {
     "output_type": "display_data",
     "data": {
      "image/png": "[encoded data removed]",
      "text/plain": [
       "<Figure size 432x288 with 2 Axes>"
      ]
     },
     "metadata": {
      "needs_background": "light"
     }
    },
    {
     "output_type": "stream",
     "name": "stdout",
     "text": [
      "158788    1\n",
      "111053    1\n",
      "86185     1\n",
      "59085     1\n",
      "124796    1\n",
      "         ..\n",
      "2480      0\n",
      "216585    0\n",
      "211529    1\n",
      "9532      1\n",
      "61789     1\n",
      "Name: Review, Length: 36457, dtype: int32 \n",
      "\n",
      "[0.99078259 0.99775195 0.98546988 ... 0.99320446 0.98979711 0.85710287] \n",
      "\n",
      "[1 1 1 ... 1 1 1] \n",
      "\n",
      "AUC Score (Test): 0.9593659448503026\n",
      "Accuracy (Test): 0.9297254299585813\n"
     ]
    }
   ],
   "metadata": {}
  },
  {
   "cell_type": "markdown",
   "source": [
    " SGD Classifier on Tf-Idf word2vec"
   ],
   "metadata": {}
  },
  {
   "cell_type": "code",
   "execution_count": 48,
   "source": [
    "auc_score_tfidf_word2vec_test_SGDC, accuracy_tfidf_word2vec_test_SGDC = SGDClassifier_train_random_search_cv(X_train_tfidf_word2vec, Y_train_tfidf_wor2vec, X_test_tfidf_word2vec, Y_test_tfidf_wor2vec)"
   ],
   "outputs": [
    {
     "output_type": "stream",
     "name": "stdout",
     "text": [
      "Best Hyperparameters: {'alpha': 8.264328927007723e-05, 'eta0': 0.2}\n",
      "AUC Score (CV): 0.898598635319009  Accuracy (CV): 0.8855017351370447\n",
      "AUC Score (Train): 0.9014496946423861  Accuracy (Train): 0.887372956818112\n"
     ]
    },
    {
     "output_type": "display_data",
     "data": {
      "image/png": "[encoded data removed]",
      "text/plain": [
       "<Figure size 432x288 with 2 Axes>"
      ]
     },
     "metadata": {
      "needs_background": "light"
     }
    },
    {
     "output_type": "display_data",
     "data": {
      "image/png": "[encoded data removed]",
      "text/plain": [
       "<Figure size 432x288 with 2 Axes>"
      ]
     },
     "metadata": {
      "needs_background": "light"
     }
    },
    {
     "output_type": "stream",
     "name": "stdout",
     "text": [
      "26688     0\n",
      "182864    1\n",
      "107670    1\n",
      "215869    1\n",
      "79918     1\n",
      "         ..\n",
      "240596    1\n",
      "70876     1\n",
      "34789     1\n",
      "33988     1\n",
      "23453     1\n",
      "Name: Review, Length: 36457, dtype: int32 \n",
      "\n",
      "[0.22664315 0.92840207 0.88764903 ... 0.99937233 0.98631626 0.98944726] \n",
      "\n",
      "[0 1 1 ... 1 1 1] \n",
      "\n",
      "AUC Score (Test): 0.9019865914479197\n",
      "Accuracy (Test): 0.887237018953836\n"
     ]
    }
   ],
   "metadata": {}
  },
  {
   "cell_type": "markdown",
   "source": [
    "# KNN, Naive Bayes, and SGD Completed"
   ],
   "metadata": {}
  }
 ],
 "nbformat": 4,
 "nbformat_minor": 2,
 "metadata": {
  "language_info": {
   "codemirror_mode": {
    "name": "ipython",
    "version": 3
   },
   "file_extension": ".py",
   "mimetype": "text/x-python",
   "name": "python",
   "nbconvert_exporter": "python",
   "pygments_lexer": "ipython3",
   "version": 3
  }
 }
}