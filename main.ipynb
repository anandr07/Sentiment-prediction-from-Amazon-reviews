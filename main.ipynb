{
 "cells": [
  {
   "cell_type": "code",
   "execution_count": 32,
   "source": [
    "#!/usr/bin/env python\n",
    "# coding: utf-8\n",
    "\n",
    "#%%[markdown]\n",
    "# # Sentiment prediction from Amazon reviews\n",
    "\n",
    "# ## About DataSet\n",
    "\n",
    "# This dataset consists of reviews of fine foods from amazon. The data span a period of more than 10 years, including all ~500,000 reviews up to October 2012. Reviews include product and user information, ratings, and a plain text review. It also includes reviews from all other Amazon categories.\n",
    "# \n",
    "# Contents\n",
    "# \n",
    "# database.csv: Contains the table 'Reviews'\n",
    "# \n",
    "# Data includes:\n",
    "# \n",
    "# Reviews from Oct 1999 - Oct 2012 568,454 reviews 256,059 users 74,258 products 260 users with > 50 reviews"
   ],
   "outputs": [],
   "metadata": {}
  },
  {
   "cell_type": "code",
   "execution_count": 33,
   "source": [
    "import sys\n",
    "import os\n",
    "\n",
    "# Getting the current script's directory\n",
    "current_dir = os.path.dirname(os.path.abspath(__file__))\n",
    "\n",
    "# Adding the parent directory to the Python path\n",
    "sys.path.append(os.path.dirname(current_dir))"
   ],
   "outputs": [],
   "metadata": {}
  },
  {
   "cell_type": "code",
   "execution_count": 34,
   "source": [
    "#Importing Libraries\n",
    "\n",
    "import sys \n",
    "import sqlite3\n",
    "import pandas as pd\n",
    "import numpy as np\n",
    "import nltk\n",
    "from nltk.corpus import stopwords\n",
    "from nltk.stem import SnowballStemmer\n",
    "import re\n",
    "import matplotlib.pyplot as plt\n",
    "#get_ipython().run_line_magic('matplotlib', 'inline')\n",
    "import seaborn as sns\n",
    "from sklearn.feature_extraction.text import CountVectorizer\n",
    "from sklearn.feature_extraction.text import TfidfVectorizer\n",
    "from wordcloud import WordCloud\n",
    "from gensim.models import Word2Vec\n",
    "from gensim.models import KeyedVectors\n",
    "import warnings\n",
    "from sklearn.model_selection import train_test_split \n",
    "from sklearn.model_selection import KFold\n",
    "from sklearn.model_selection import cross_val_score\n",
    "import pickle\n",
    "import gensim\n",
    "from tqdm import tqdm\n",
    "from sklearn.preprocessing import LabelEncoder\n",
    "from data_preprocessing import clean_text, preprocess_text, sentence_to_words\n",
    "from ml_algorithms.KNN import KNN_train_simple_cv\n",
    "from sklearn import preprocessing\n",
    "from sklearn.preprocessing import Normalizer"
   ],
   "outputs": [],
   "metadata": {}
  },
  {
   "cell_type": "code",
   "execution_count": 35,
   "source": [
    "raw_data = pd.read_csv(\"C:\\Anand\\Projects_GWU\\Sentiment-prediction-from-Amazon-reviews\\data\\Reviews.csv\")"
   ],
   "outputs": [],
   "metadata": {}
  },
  {
   "cell_type": "code",
   "execution_count": 36,
   "source": [
    "raw_data.head(10)"
   ],
   "outputs": [
    {
     "output_type": "execute_result",
     "data": {
      "text/html": [
       "<div>\n",
       "<style scoped>\n",
       "    .dataframe tbody tr th:only-of-type {\n",
       "        vertical-align: middle;\n",
       "    }\n",
       "\n",
       "    .dataframe tbody tr th {\n",
       "        vertical-align: top;\n",
       "    }\n",
       "\n",
       "    .dataframe thead th {\n",
       "        text-align: right;\n",
       "    }\n",
       "</style>\n",
       "<table border=\"1\" class=\"dataframe\">\n",
       "  <thead>\n",
       "    <tr style=\"text-align: right;\">\n",
       "      <th></th>\n",
       "      <th>Id</th>\n",
       "      <th>ProductId</th>\n",
       "      <th>UserId</th>\n",
       "      <th>ProfileName</th>\n",
       "      <th>HelpfulnessNumerator</th>\n",
       "      <th>HelpfulnessDenominator</th>\n",
       "      <th>Score</th>\n",
       "      <th>Time</th>\n",
       "      <th>Summary</th>\n",
       "      <th>Text</th>\n",
       "    </tr>\n",
       "  </thead>\n",
       "  <tbody>\n",
       "    <tr>\n",
       "      <th>0</th>\n",
       "      <td>1</td>\n",
       "      <td>B001E4KFG0</td>\n",
       "      <td>A3SGXH7AUHU8GW</td>\n",
       "      <td>delmartian</td>\n",
       "      <td>1</td>\n",
       "      <td>1</td>\n",
       "      <td>5</td>\n",
       "      <td>1303862400</td>\n",
       "      <td>Good Quality Dog Food</td>\n",
       "      <td>I have bought several of the Vitality canned d...</td>\n",
       "    </tr>\n",
       "    <tr>\n",
       "      <th>1</th>\n",
       "      <td>2</td>\n",
       "      <td>B00813GRG4</td>\n",
       "      <td>A1D87F6ZCVE5NK</td>\n",
       "      <td>dll pa</td>\n",
       "      <td>0</td>\n",
       "      <td>0</td>\n",
       "      <td>1</td>\n",
       "      <td>1346976000</td>\n",
       "      <td>Not as Advertised</td>\n",
       "      <td>Product arrived labeled as Jumbo Salted Peanut...</td>\n",
       "    </tr>\n",
       "    <tr>\n",
       "      <th>2</th>\n",
       "      <td>3</td>\n",
       "      <td>B000LQOCH0</td>\n",
       "      <td>ABXLMWJIXXAIN</td>\n",
       "      <td>Natalia Corres \"Natalia Corres\"</td>\n",
       "      <td>1</td>\n",
       "      <td>1</td>\n",
       "      <td>4</td>\n",
       "      <td>1219017600</td>\n",
       "      <td>\"Delight\" says it all</td>\n",
       "      <td>This is a confection that has been around a fe...</td>\n",
       "    </tr>\n",
       "    <tr>\n",
       "      <th>3</th>\n",
       "      <td>4</td>\n",
       "      <td>B000UA0QIQ</td>\n",
       "      <td>A395BORC6FGVXV</td>\n",
       "      <td>Karl</td>\n",
       "      <td>3</td>\n",
       "      <td>3</td>\n",
       "      <td>2</td>\n",
       "      <td>1307923200</td>\n",
       "      <td>Cough Medicine</td>\n",
       "      <td>If you are looking for the secret ingredient i...</td>\n",
       "    </tr>\n",
       "    <tr>\n",
       "      <th>4</th>\n",
       "      <td>5</td>\n",
       "      <td>B006K2ZZ7K</td>\n",
       "      <td>A1UQRSCLF8GW1T</td>\n",
       "      <td>Michael D. Bigham \"M. Wassir\"</td>\n",
       "      <td>0</td>\n",
       "      <td>0</td>\n",
       "      <td>5</td>\n",
       "      <td>1350777600</td>\n",
       "      <td>Great taffy</td>\n",
       "      <td>Great taffy at a great price.  There was a wid...</td>\n",
       "    </tr>\n",
       "    <tr>\n",
       "      <th>5</th>\n",
       "      <td>6</td>\n",
       "      <td>B006K2ZZ7K</td>\n",
       "      <td>ADT0SRK1MGOEU</td>\n",
       "      <td>Twoapennything</td>\n",
       "      <td>0</td>\n",
       "      <td>0</td>\n",
       "      <td>4</td>\n",
       "      <td>1342051200</td>\n",
       "      <td>Nice Taffy</td>\n",
       "      <td>I got a wild hair for taffy and ordered this f...</td>\n",
       "    </tr>\n",
       "    <tr>\n",
       "      <th>6</th>\n",
       "      <td>7</td>\n",
       "      <td>B006K2ZZ7K</td>\n",
       "      <td>A1SP2KVKFXXRU1</td>\n",
       "      <td>David C. Sullivan</td>\n",
       "      <td>0</td>\n",
       "      <td>0</td>\n",
       "      <td>5</td>\n",
       "      <td>1340150400</td>\n",
       "      <td>Great!  Just as good as the expensive brands!</td>\n",
       "      <td>This saltwater taffy had great flavors and was...</td>\n",
       "    </tr>\n",
       "    <tr>\n",
       "      <th>7</th>\n",
       "      <td>8</td>\n",
       "      <td>B006K2ZZ7K</td>\n",
       "      <td>A3JRGQVEQN31IQ</td>\n",
       "      <td>Pamela G. Williams</td>\n",
       "      <td>0</td>\n",
       "      <td>0</td>\n",
       "      <td>5</td>\n",
       "      <td>1336003200</td>\n",
       "      <td>Wonderful, tasty taffy</td>\n",
       "      <td>This taffy is so good.  It is very soft and ch...</td>\n",
       "    </tr>\n",
       "    <tr>\n",
       "      <th>8</th>\n",
       "      <td>9</td>\n",
       "      <td>B000E7L2R4</td>\n",
       "      <td>A1MZYO9TZK0BBI</td>\n",
       "      <td>R. James</td>\n",
       "      <td>1</td>\n",
       "      <td>1</td>\n",
       "      <td>5</td>\n",
       "      <td>1322006400</td>\n",
       "      <td>Yay Barley</td>\n",
       "      <td>Right now I'm mostly just sprouting this so my...</td>\n",
       "    </tr>\n",
       "    <tr>\n",
       "      <th>9</th>\n",
       "      <td>10</td>\n",
       "      <td>B00171APVA</td>\n",
       "      <td>A21BT40VZCCYT4</td>\n",
       "      <td>Carol A. Reed</td>\n",
       "      <td>0</td>\n",
       "      <td>0</td>\n",
       "      <td>5</td>\n",
       "      <td>1351209600</td>\n",
       "      <td>Healthy Dog Food</td>\n",
       "      <td>This is a very healthy dog food. Good for thei...</td>\n",
       "    </tr>\n",
       "  </tbody>\n",
       "</table>\n",
       "</div>"
      ],
      "text/plain": [
       "   Id   ProductId          UserId                      ProfileName  \\\n",
       "0   1  B001E4KFG0  A3SGXH7AUHU8GW                       delmartian   \n",
       "1   2  B00813GRG4  A1D87F6ZCVE5NK                           dll pa   \n",
       "2   3  B000LQOCH0   ABXLMWJIXXAIN  Natalia Corres \"Natalia Corres\"   \n",
       "3   4  B000UA0QIQ  A395BORC6FGVXV                             Karl   \n",
       "4   5  B006K2ZZ7K  A1UQRSCLF8GW1T    Michael D. Bigham \"M. Wassir\"   \n",
       "5   6  B006K2ZZ7K   ADT0SRK1MGOEU                   Twoapennything   \n",
       "6   7  B006K2ZZ7K  A1SP2KVKFXXRU1                David C. Sullivan   \n",
       "7   8  B006K2ZZ7K  A3JRGQVEQN31IQ               Pamela G. Williams   \n",
       "8   9  B000E7L2R4  A1MZYO9TZK0BBI                         R. James   \n",
       "9  10  B00171APVA  A21BT40VZCCYT4                    Carol A. Reed   \n",
       "\n",
       "   HelpfulnessNumerator  HelpfulnessDenominator  Score        Time  \\\n",
       "0                     1                       1      5  1303862400   \n",
       "1                     0                       0      1  1346976000   \n",
       "2                     1                       1      4  1219017600   \n",
       "3                     3                       3      2  1307923200   \n",
       "4                     0                       0      5  1350777600   \n",
       "5                     0                       0      4  1342051200   \n",
       "6                     0                       0      5  1340150400   \n",
       "7                     0                       0      5  1336003200   \n",
       "8                     1                       1      5  1322006400   \n",
       "9                     0                       0      5  1351209600   \n",
       "\n",
       "                                         Summary  \\\n",
       "0                          Good Quality Dog Food   \n",
       "1                              Not as Advertised   \n",
       "2                          \"Delight\" says it all   \n",
       "3                                 Cough Medicine   \n",
       "4                                    Great taffy   \n",
       "5                                     Nice Taffy   \n",
       "6  Great!  Just as good as the expensive brands!   \n",
       "7                         Wonderful, tasty taffy   \n",
       "8                                     Yay Barley   \n",
       "9                               Healthy Dog Food   \n",
       "\n",
       "                                                Text  \n",
       "0  I have bought several of the Vitality canned d...  \n",
       "1  Product arrived labeled as Jumbo Salted Peanut...  \n",
       "2  This is a confection that has been around a fe...  \n",
       "3  If you are looking for the secret ingredient i...  \n",
       "4  Great taffy at a great price.  There was a wid...  \n",
       "5  I got a wild hair for taffy and ordered this f...  \n",
       "6  This saltwater taffy had great flavors and was...  \n",
       "7  This taffy is so good.  It is very soft and ch...  \n",
       "8  Right now I'm mostly just sprouting this so my...  \n",
       "9  This is a very healthy dog food. Good for thei...  "
      ]
     },
     "metadata": {},
     "execution_count": 36
    }
   ],
   "metadata": {}
  },
  {
   "cell_type": "code",
   "execution_count": 37,
   "source": [
    "print(raw_data[\"Text\"].head(10))"
   ],
   "outputs": [
    {
     "output_type": "stream",
     "name": "stdout",
     "text": [
      "0    I have bought several of the Vitality canned d...\n",
      "1    Product arrived labeled as Jumbo Salted Peanut...\n",
      "2    This is a confection that has been around a fe...\n",
      "3    If you are looking for the secret ingredient i...\n",
      "4    Great taffy at a great price.  There was a wid...\n",
      "5    I got a wild hair for taffy and ordered this f...\n",
      "6    This saltwater taffy had great flavors and was...\n",
      "7    This taffy is so good.  It is very soft and ch...\n",
      "8    Right now I'm mostly just sprouting this so my...\n",
      "9    This is a very healthy dog food. Good for thei...\n",
      "Name: Text, dtype: object\n"
     ]
    }
   ],
   "metadata": {}
  },
  {
   "cell_type": "code",
   "execution_count": 38,
   "source": [
    "raw_data.shape"
   ],
   "outputs": [
    {
     "output_type": "execute_result",
     "data": {
      "text/plain": [
       "(568454, 10)"
      ]
     },
     "metadata": {},
     "execution_count": 38
    }
   ],
   "metadata": {}
  },
  {
   "cell_type": "code",
   "execution_count": 39,
   "source": [
    "# Drop rows with rating/score as 3.\n",
    "value_to_drop = 3\n",
    "\n",
    "# Drop rows where 'Score' has value 3.\n",
    "raw_data = raw_data[raw_data['Score'] != value_to_drop]"
   ],
   "outputs": [],
   "metadata": {}
  },
  {
   "cell_type": "code",
   "execution_count": 40,
   "source": [
    "# After dropping row with score 3\n",
    "print(raw_data.shape)\n",
    "\n",
    "#Unique values in Score column must be 1/2/4/5.\n",
    "print(raw_data.Score.unique())"
   ],
   "outputs": [
    {
     "output_type": "stream",
     "name": "stdout",
     "text": [
      "(525814, 10)\n",
      "[5 1 4 2]\n"
     ]
    }
   ],
   "metadata": {}
  },
  {
   "cell_type": "code",
   "execution_count": 41,
   "source": [
    "# Giving 4&5 as Positive and 1&2 as Negative Rating \n",
    "def assign_values(value):\n",
    "    if value < 3:\n",
    "        return 'Negative'\n",
    "    else:\n",
    "        return 'Positive'\n",
    "\n",
    "raw_data['Review'] = raw_data['Score'].apply(assign_values)"
   ],
   "outputs": [],
   "metadata": {}
  },
  {
   "cell_type": "code",
   "execution_count": 42,
   "source": [
    "raw_data.head(5)"
   ],
   "outputs": [
    {
     "output_type": "execute_result",
     "data": {
      "text/html": [
       "<div>\n",
       "<style scoped>\n",
       "    .dataframe tbody tr th:only-of-type {\n",
       "        vertical-align: middle;\n",
       "    }\n",
       "\n",
       "    .dataframe tbody tr th {\n",
       "        vertical-align: top;\n",
       "    }\n",
       "\n",
       "    .dataframe thead th {\n",
       "        text-align: right;\n",
       "    }\n",
       "</style>\n",
       "<table border=\"1\" class=\"dataframe\">\n",
       "  <thead>\n",
       "    <tr style=\"text-align: right;\">\n",
       "      <th></th>\n",
       "      <th>Id</th>\n",
       "      <th>ProductId</th>\n",
       "      <th>UserId</th>\n",
       "      <th>ProfileName</th>\n",
       "      <th>HelpfulnessNumerator</th>\n",
       "      <th>HelpfulnessDenominator</th>\n",
       "      <th>Score</th>\n",
       "      <th>Time</th>\n",
       "      <th>Summary</th>\n",
       "      <th>Text</th>\n",
       "      <th>Review</th>\n",
       "    </tr>\n",
       "  </thead>\n",
       "  <tbody>\n",
       "    <tr>\n",
       "      <th>0</th>\n",
       "      <td>1</td>\n",
       "      <td>B001E4KFG0</td>\n",
       "      <td>A3SGXH7AUHU8GW</td>\n",
       "      <td>delmartian</td>\n",
       "      <td>1</td>\n",
       "      <td>1</td>\n",
       "      <td>5</td>\n",
       "      <td>1303862400</td>\n",
       "      <td>Good Quality Dog Food</td>\n",
       "      <td>I have bought several of the Vitality canned d...</td>\n",
       "      <td>Positive</td>\n",
       "    </tr>\n",
       "    <tr>\n",
       "      <th>1</th>\n",
       "      <td>2</td>\n",
       "      <td>B00813GRG4</td>\n",
       "      <td>A1D87F6ZCVE5NK</td>\n",
       "      <td>dll pa</td>\n",
       "      <td>0</td>\n",
       "      <td>0</td>\n",
       "      <td>1</td>\n",
       "      <td>1346976000</td>\n",
       "      <td>Not as Advertised</td>\n",
       "      <td>Product arrived labeled as Jumbo Salted Peanut...</td>\n",
       "      <td>Negative</td>\n",
       "    </tr>\n",
       "    <tr>\n",
       "      <th>2</th>\n",
       "      <td>3</td>\n",
       "      <td>B000LQOCH0</td>\n",
       "      <td>ABXLMWJIXXAIN</td>\n",
       "      <td>Natalia Corres \"Natalia Corres\"</td>\n",
       "      <td>1</td>\n",
       "      <td>1</td>\n",
       "      <td>4</td>\n",
       "      <td>1219017600</td>\n",
       "      <td>\"Delight\" says it all</td>\n",
       "      <td>This is a confection that has been around a fe...</td>\n",
       "      <td>Positive</td>\n",
       "    </tr>\n",
       "    <tr>\n",
       "      <th>3</th>\n",
       "      <td>4</td>\n",
       "      <td>B000UA0QIQ</td>\n",
       "      <td>A395BORC6FGVXV</td>\n",
       "      <td>Karl</td>\n",
       "      <td>3</td>\n",
       "      <td>3</td>\n",
       "      <td>2</td>\n",
       "      <td>1307923200</td>\n",
       "      <td>Cough Medicine</td>\n",
       "      <td>If you are looking for the secret ingredient i...</td>\n",
       "      <td>Negative</td>\n",
       "    </tr>\n",
       "    <tr>\n",
       "      <th>4</th>\n",
       "      <td>5</td>\n",
       "      <td>B006K2ZZ7K</td>\n",
       "      <td>A1UQRSCLF8GW1T</td>\n",
       "      <td>Michael D. Bigham \"M. Wassir\"</td>\n",
       "      <td>0</td>\n",
       "      <td>0</td>\n",
       "      <td>5</td>\n",
       "      <td>1350777600</td>\n",
       "      <td>Great taffy</td>\n",
       "      <td>Great taffy at a great price.  There was a wid...</td>\n",
       "      <td>Positive</td>\n",
       "    </tr>\n",
       "  </tbody>\n",
       "</table>\n",
       "</div>"
      ],
      "text/plain": [
       "   Id   ProductId          UserId                      ProfileName  \\\n",
       "0   1  B001E4KFG0  A3SGXH7AUHU8GW                       delmartian   \n",
       "1   2  B00813GRG4  A1D87F6ZCVE5NK                           dll pa   \n",
       "2   3  B000LQOCH0   ABXLMWJIXXAIN  Natalia Corres \"Natalia Corres\"   \n",
       "3   4  B000UA0QIQ  A395BORC6FGVXV                             Karl   \n",
       "4   5  B006K2ZZ7K  A1UQRSCLF8GW1T    Michael D. Bigham \"M. Wassir\"   \n",
       "\n",
       "   HelpfulnessNumerator  HelpfulnessDenominator  Score        Time  \\\n",
       "0                     1                       1      5  1303862400   \n",
       "1                     0                       0      1  1346976000   \n",
       "2                     1                       1      4  1219017600   \n",
       "3                     3                       3      2  1307923200   \n",
       "4                     0                       0      5  1350777600   \n",
       "\n",
       "                 Summary                                               Text  \\\n",
       "0  Good Quality Dog Food  I have bought several of the Vitality canned d...   \n",
       "1      Not as Advertised  Product arrived labeled as Jumbo Salted Peanut...   \n",
       "2  \"Delight\" says it all  This is a confection that has been around a fe...   \n",
       "3         Cough Medicine  If you are looking for the secret ingredient i...   \n",
       "4            Great taffy  Great taffy at a great price.  There was a wid...   \n",
       "\n",
       "     Review  \n",
       "0  Positive  \n",
       "1  Negative  \n",
       "2  Positive  \n",
       "3  Negative  \n",
       "4  Positive  "
      ]
     },
     "metadata": {},
     "execution_count": 42
    }
   ],
   "metadata": {}
  },
  {
   "cell_type": "code",
   "execution_count": 43,
   "source": [
    "# Checking for duplicate Reviews \n",
    "boolean = not raw_data[\"Text\"].is_unique      \n",
    "boolean = raw_data['Text'].duplicated().any()\n",
    "print(boolean)"
   ],
   "outputs": [
    {
     "output_type": "stream",
     "name": "stdout",
     "text": [
      "True\n"
     ]
    }
   ],
   "metadata": {}
  },
  {
   "cell_type": "code",
   "execution_count": 44,
   "source": [
    "# Drop duplicated Reviews\n",
    "raw_data = raw_data.drop_duplicates(subset='Text', keep='first')\n",
    "\n",
    "# Check the shape\n",
    "print(raw_data.shape)"
   ],
   "outputs": [
    {
     "output_type": "stream",
     "name": "stdout",
     "text": [
      "(363836, 11)\n"
     ]
    }
   ],
   "metadata": {}
  },
  {
   "cell_type": "code",
   "execution_count": 45,
   "source": [
    "# Check if HelpfulnessNumerator is less than HelpfulnessDenominator, If so then drop those rows\n",
    "raw_data=raw_data[raw_data.HelpfulnessNumerator<=raw_data.HelpfulnessDenominator]\n",
    "print(raw_data.shape)\n",
    "\n",
    "# The observations in the dataset dropped from 568454 to 363834 as there were a lot of Duplicate Reviews and Number of people who found review helpful cannot be greater than number of people who viewed the review. These rows were dropped\n",
    "\n",
    "# # Check proportions of categories in output label:\n",
    "# raw_data['Review'].value_counts()"
   ],
   "outputs": [
    {
     "output_type": "stream",
     "name": "stdout",
     "text": [
      "(363834, 11)\n"
     ]
    }
   ],
   "metadata": {}
  },
  {
   "cell_type": "code",
   "execution_count": 46,
   "source": [
    "# Apply clean_text function to clean the text column.\n",
    "raw_data['Clean_Text'] = raw_data['Text'].apply(lambda x: clean_text(x))"
   ],
   "outputs": [],
   "metadata": {}
  },
  {
   "cell_type": "code",
   "execution_count": 47,
   "source": [
    "print(raw_data[\"Text\"].head(10))"
   ],
   "outputs": [
    {
     "output_type": "stream",
     "name": "stdout",
     "text": [
      "0    I have bought several of the Vitality canned d...\n",
      "1    Product arrived labeled as Jumbo Salted Peanut...\n",
      "2    This is a confection that has been around a fe...\n",
      "3    If you are looking for the secret ingredient i...\n",
      "4    Great taffy at a great price.  There was a wid...\n",
      "5    I got a wild hair for taffy and ordered this f...\n",
      "6    This saltwater taffy had great flavors and was...\n",
      "7    This taffy is so good.  It is very soft and ch...\n",
      "8    Right now I'm mostly just sprouting this so my...\n",
      "9    This is a very healthy dog food. Good for thei...\n",
      "Name: Text, dtype: object\n"
     ]
    }
   ],
   "metadata": {}
  },
  {
   "cell_type": "code",
   "execution_count": 48,
   "source": [
    "# Apply text preprocessing to the 'Text' column from data-preprocessing.py file \n",
    "raw_data['Clean_Text'] = raw_data['Clean_Text'].apply(preprocess_text)"
   ],
   "outputs": [],
   "metadata": {}
  },
  {
   "cell_type": "code",
   "execution_count": 49,
   "source": [
    "# Comparing the Original Text and the processed text\n",
    "print(raw_data[\"Text\"][1])\n",
    "\n",
    "print(\"\\n After Processing of Text \\n\")\n",
    "\n",
    "print(raw_data[\"Clean_Text\"][1])"
   ],
   "outputs": [
    {
     "output_type": "stream",
     "name": "stdout",
     "text": [
      "Product arrived labeled as Jumbo Salted Peanuts...the peanuts were actually small sized unsalted. Not sure if this was an error or if the vendor intended to represent the product as \"Jumbo\".\n",
      "\n",
      " After Processing of Text \n",
      "\n",
      "product arriv label jumbo salt peanutsth peanut actual small size unsalt not sure error vendor intend repres product jumbo\n"
     ]
    }
   ],
   "metadata": {}
  },
  {
   "cell_type": "code",
   "execution_count": 50,
   "source": [
    "# Converting sentence into words using sentence_to_words function from the data_preprocessing file\n",
    "list_of_words_in_sentance = sentence_to_words(raw_data, 'Clean_Text')"
   ],
   "outputs": [],
   "metadata": {}
  },
  {
   "cell_type": "code",
   "execution_count": 51,
   "source": [
    "raw_data[\"Clean_Text\"].iloc[0]"
   ],
   "outputs": [
    {
     "output_type": "execute_result",
     "data": {
      "text/plain": [
       "'bought sever vital can dog food product found good qualiti the product look like stew process meat smell better labrador finicki appreci product better'"
      ]
     },
     "metadata": {},
     "execution_count": 51
    }
   ],
   "metadata": {}
  },
  {
   "cell_type": "code",
   "execution_count": 52,
   "source": [
    "print(raw_data['Clean_Text'])"
   ],
   "outputs": [
    {
     "output_type": "stream",
     "name": "stdout",
     "text": [
      "0         bought sever vital can dog food product found ...\n",
      "1         product arriv label jumbo salt peanutsth peanu...\n",
      "2         this confect around centuri light pillowi citr...\n",
      "3         look secret ingredi robitussin believ found go...\n",
      "4         great taffi great price there wide assort yumm...\n",
      "                                ...                        \n",
      "568449    great sesam chickenthi good better restur eate...\n",
      "568450    disappoint flavor the chocol note especi weak ...\n",
      "568451    these star small give one train session tri tr...\n",
      "568452    these best treat train reward dog good groom l...\n",
      "568453    satisfi product advertis use cereal raw vinega...\n",
      "Name: Clean_Text, Length: 363834, dtype: object\n"
     ]
    }
   ],
   "metadata": {}
  },
  {
   "cell_type": "code",
   "execution_count": 53,
   "source": [
    "print(f\"Sentence cleaned: {raw_data['Clean_Text'].values[0]}\")\n",
    "print(f\"Words in cleaned sentence{list_of_words_in_sentance[0]}\")"
   ],
   "outputs": [
    {
     "output_type": "stream",
     "name": "stdout",
     "text": [
      "Sentence cleaned: bought sever vital can dog food product found good qualiti the product look like stew process meat smell better labrador finicki appreci product better\n",
      "Words in cleaned sentence['bought', 'sever', 'vital', 'can', 'dog', 'food', 'product', 'found', 'good', 'qualiti', 'the', 'product', 'look', 'like', 'stew', 'process', 'meat', 'smell', 'better', 'labrador', 'finicki', 'appreci', 'product', 'better']\n"
     ]
    }
   ],
   "metadata": {}
  },
  {
   "cell_type": "markdown",
   "source": [
    " Time Based Splitting"
   ],
   "metadata": {}
  },
  {
   "cell_type": "code",
   "execution_count": 54,
   "source": [
    "final_reviews = raw_data.sort_values('Time', axis=0, ascending=True, inplace=False, kind='quicksort', na_position='last')\n",
    "final_reviews.shape"
   ],
   "outputs": [
    {
     "output_type": "execute_result",
     "data": {
      "text/plain": [
       "(363834, 12)"
      ]
     },
     "metadata": {},
     "execution_count": 54
    }
   ],
   "metadata": {}
  },
  {
   "cell_type": "code",
   "execution_count": 55,
   "source": [
    "# Label Encoding Reviews Column\n",
    "label_encoder = LabelEncoder()\n",
    "\n",
    "# Fit and transform the \"Review\" column\n",
    "raw_data['Review'] = label_encoder.fit_transform(raw_data['Review'])"
   ],
   "outputs": [],
   "metadata": {}
  },
  {
   "cell_type": "markdown",
   "source": [
    " Train and Test Split"
   ],
   "metadata": {}
  },
  {
   "cell_type": "code",
   "execution_count": 56,
   "source": [
    "# Splitting data into train, Train and Test \n",
    "X = raw_data['Clean_Text']\n",
    "Y = raw_data['Review']\n",
    "\n",
    "X_train, X_test, Y_train, Y_test = train_test_split(X, Y, test_size=.20, random_state=123)\n",
    "\n",
    "print('X_train, Y_train', X_train.shape, Y_train.shape)\n",
    "print('X_test, Y_test', X_test.shape, Y_test.shape)"
   ],
   "outputs": [
    {
     "output_type": "stream",
     "name": "stdout",
     "text": [
      "X_train, Y_train (291067,) (291067,)\n",
      "X_test, Y_test (72767,) (72767,)\n"
     ]
    }
   ],
   "metadata": {}
  },
  {
   "cell_type": "markdown",
   "source": [
    "# Bag of Words"
   ],
   "metadata": {}
  },
  {
   "cell_type": "code",
   "execution_count": 57,
   "source": [
    "# Bag Of Words\n",
    "Count_vectorizer = CountVectorizer()\n",
    "X_train_bow = Count_vectorizer.fit_transform(X_train.values)\n",
    "print(f\"Shape of dataset after converting into BOW is {X_train_bow.get_shape()}\")\n",
    "X_test_bow = Count_vectorizer.transform(X_test.values)  # Use transform instead of fit_transform\n",
    "print(f\"Shape of dataset after converting into BOW is {X_test_bow.get_shape()}\")"
   ],
   "outputs": [
    {
     "output_type": "stream",
     "name": "stdout",
     "text": [
      "Shape of dataset after converting into BOW is (291067, 164404)\n",
      "Shape of dataset after converting into BOW is (72767, 164404)\n"
     ]
    }
   ],
   "metadata": {}
  },
  {
   "cell_type": "code",
   "execution_count": 58,
   "source": [
    "# Normalize BOW Train and Test Data\n",
    "X_train_bow=preprocessing.normalize(X_train_bow)\n",
    "X_test_bow=preprocessing.normalize(X_test_bow)\n",
    "print(\"The shape of out text BOW vectorizer \",X_train_bow.get_shape())\n",
    "print(\"Test Data Size: \",X_test_bow.shape)"
   ],
   "outputs": [
    {
     "output_type": "stream",
     "name": "stdout",
     "text": [
      "The shape of out text BOW vectorizer  (291067, 164404)\n",
      "Test Data Size:  (72767, 164404)\n"
     ]
    }
   ],
   "metadata": {}
  },
  {
   "cell_type": "markdown",
   "source": [
    "# Uni, Bi and Tri Grams"
   ],
   "metadata": {}
  },
  {
   "cell_type": "code",
   "execution_count": 59,
   "source": [
    "Count_vectorizer_n_grams = CountVectorizer(ngram_range=(1,3) ) \n",
    "X_train_n_grams = Count_vectorizer_n_grams.fit_transform(X_train.values)\n",
    "print(\"Shape of dataset after converting into uni, bi and tri-grams is \",X_train_n_grams.get_shape())\n",
    "X_test_n_grams = Count_vectorizer_n_grams.transform(X_test.values)\n",
    "print(\"Shape of dataset after converting into uni, bi and tri-grams is \",X_test_n_grams.get_shape())"
   ],
   "outputs": [
    {
     "output_type": "stream",
     "name": "stdout",
     "text": [
      "Shape of dataset after converting into uni, bi and tri-grams is  (291067, 11238235)\n",
      "Shape of dataset after converting into uni, bi and tri-grams is  (72767, 11238235)\n"
     ]
    }
   ],
   "metadata": {}
  },
  {
   "cell_type": "markdown",
   "source": [
    "# Tf-Idf Vectorization"
   ],
   "metadata": {}
  },
  {
   "cell_type": "code",
   "execution_count": 60,
   "source": [
    "# tf-idf Vectorizer\n",
    "tf_idf_vectorizer = TfidfVectorizer(ngram_range=(1, 2))\n",
    "\n",
    "X_train_tf_idf_vectorizer = tf_idf_vectorizer.fit_transform(X_train.values)\n",
    "X_test_tf_idf_vectorizer = tf_idf_vectorizer.transform(X_test.values)\n",
    "\n",
    "print(\"Shape of dataset after converting into tf-idf is \", X_train_tf_idf_vectorizer.get_shape())\n",
    "print(\"Shape of dataset after converting into tf-idf is \", X_test_tf_idf_vectorizer.get_shape())"
   ],
   "outputs": [
    {
     "output_type": "stream",
     "name": "stdout",
     "text": [
      "Shape of dataset after converting into tf-idf is  (291067, 2916174)\n",
      "Shape of dataset after converting into tf-idf is  (72767, 2916174)\n"
     ]
    }
   ],
   "metadata": {}
  },
  {
   "cell_type": "code",
   "execution_count": 61,
   "source": [
    "# Normalize Tf-Idf Train and Test Data\n",
    "X_train_tfidf=preprocessing.normalize(X_train_tf_idf_vectorizer)\n",
    "X_test_tfidf=preprocessing.normalize(X_test_tf_idf_vectorizer)\n",
    "print(\"The shape of out text BOW vectorizer \",X_train_tfidf.get_shape())\n",
    "print(\"Test Data Size: \",X_test_tfidf.shape)"
   ],
   "outputs": [
    {
     "output_type": "stream",
     "name": "stdout",
     "text": [
      "The shape of out text BOW vectorizer  (291067, 2916174)\n",
      "Test Data Size:  (72767, 2916174)\n"
     ]
    }
   ],
   "metadata": {}
  },
  {
   "cell_type": "markdown",
   "source": [
    "# word2vec Model\n",
    " Making word2vec model using our data set and the same model will be used further."
   ],
   "metadata": {}
  },
  {
   "cell_type": "code",
   "execution_count": 62,
   "source": [
    "# Training word2vec model on our own data.\n",
    "w2v_model=gensim.models.Word2Vec(list_of_words_in_sentance,min_count=5, workers=4) "
   ],
   "outputs": [],
   "metadata": {}
  },
  {
   "cell_type": "code",
   "execution_count": 63,
   "source": [
    "# Saving the vocabolary of words in our trained word2vec model\n",
    "w2v_vocab = list(w2v_model.wv.key_to_index)"
   ],
   "outputs": [],
   "metadata": {}
  },
  {
   "cell_type": "code",
   "execution_count": 64,
   "source": [
    "# Get the top 10 words most similar words to \"quality\"\n",
    "w2v_model.wv.most_similar('good')"
   ],
   "outputs": [
    {
     "output_type": "execute_result",
     "data": {
      "text/plain": [
       "[('great', 0.7597932815551758),\n",
       " ('decent', 0.7280157804489136),\n",
       " ('awesom', 0.6288422346115112),\n",
       " ('excel', 0.6277579665184021),\n",
       " ('fantast', 0.626093864440918),\n",
       " ('bad', 0.6003758907318115),\n",
       " ('goodit', 0.5922289490699768),\n",
       " ('nice', 0.5899881720542908),\n",
       " ('tasti', 0.581486165523529),\n",
       " ('goodth', 0.5711088180541992)]"
      ]
     },
     "metadata": {},
     "execution_count": 64
    }
   ],
   "metadata": {}
  },
  {
   "cell_type": "code",
   "execution_count": 65,
   "source": [
    "raw_data.shape[0]"
   ],
   "outputs": [
    {
     "output_type": "execute_result",
     "data": {
      "text/plain": [
       "363834"
      ]
     },
     "metadata": {},
     "execution_count": 65
    }
   ],
   "metadata": {}
  },
  {
   "cell_type": "markdown",
   "source": [
    "# Average word2vec"
   ],
   "metadata": {}
  },
  {
   "cell_type": "code",
   "execution_count": 66,
   "source": [
    "sent_vectors_avg_word2vec = []; # The avg-w2v for each sentence/review is stored in this list\n",
    "vector_size = len(w2v_model.wv['good']) \n",
    "\n",
    "for sent in tqdm(list_of_words_in_sentance): # Iterating over each review/sentence\n",
    "    sent_vec = np.zeros(vector_size) \n",
    "    cnt_words =0; \n",
    "    for word in sent: # Iterating over each word in a review/sentence\n",
    "        if word in w2v_vocab:\n",
    "            vec = w2v_model.wv[word]\n",
    "            sent_vec += vec\n",
    "            cnt_words += 1\n",
    "    if cnt_words != 0:\n",
    "        sent_vec /= cnt_words\n",
    "    sent_vectors_avg_word2vec.append(sent_vec)\n",
    "print(len(sent_vectors_avg_word2vec))"
   ],
   "outputs": [
    {
     "output_type": "stream",
     "name": "stderr",
     "text": [
      "100%|██████████| 363834/363834 [07:02<00:00, 860.72it/s] "
     ]
    },
    {
     "output_type": "stream",
     "name": "stdout",
     "text": [
      "363834\n"
     ]
    },
    {
     "output_type": "stream",
     "name": "stderr",
     "text": [
      "\n"
     ]
    }
   ],
   "metadata": {}
  },
  {
   "cell_type": "code",
   "execution_count": 67,
   "source": [
    "X_train_avg_wor2vec, X_test_avg_wor2vec, Y_train_avg_wor2vec, Y_test_avg_wor2vec = train_test_split(sent_vectors_avg_word2vec,Y, test_size=.20, random_state=0)\n",
    "X_train_avg_wor2vec=preprocessing.normalize(X_train_avg_wor2vec)\n",
    "X_test_avg_wor2vec=preprocessing.normalize(X_test_avg_wor2vec)\n",
    "print(X_train_avg_wor2vec.shape)\n",
    "print(X_test_avg_wor2vec.shape)"
   ],
   "outputs": [
    {
     "output_type": "stream",
     "name": "stdout",
     "text": [
      "(291067, 100)\n",
      "(72767, 100)\n"
     ]
    }
   ],
   "metadata": {}
  },
  {
   "cell_type": "markdown",
   "source": [
    "# Tf-Idf Wword2vec"
   ],
   "metadata": {}
  },
  {
   "cell_type": "code",
   "execution_count": 68,
   "source": [
    "tfidf_model = TfidfVectorizer()\n",
    "tf_idf_matrix = tfidf_model.fit_transform(raw_data['Clean_Text'].values)\n",
    "# we are converting a dictionary with word as a key, and the idf as a value\n",
    "dictionary = dict(zip(tfidf_model.get_feature_names(), list(tfidf_model.idf_)))\n",
    "\n",
    "# TF-IDF weighted Word2Vec\n",
    "tfidf_feat = tfidf_model.get_feature_names() # tfidf words/col-names\n",
    "# final_tf_idf is the sparse matrix with row= sentence, col=word and cell_val = tfidf\n",
    "\n",
    "tfidf_sent_vectors = []; # the tfidf-w2v for each sentence/review is stored in this list\n",
    "row=0;\n",
    "for sent in tqdm(list_of_words_in_sentance): # for each review/sentence \n",
    "    sent_vec = np.zeros(vector_size) # as word vectors are of zero length\n",
    "    weight_sum =0; # num of words with a valid vector in the sentence/review\n",
    "    for word in sent: # for each word in a review/sentence\n",
    "        if word in w2v_vocab:\n",
    "            vec = w2v_model.wv[word]\n",
    "            #  tf_idf = tf_idf_matrix[row, tfidf_feat.index(word)]\n",
    "            # to reduce the computation we are \n",
    "            # dictionary[word] = idf value of word in whole courpus\n",
    "            # sent.count(word) = tf valeus of word in this review\n",
    "            tf_idf = dictionary[word]*(sent.count(word)/len(sent))\n",
    "            sent_vec += (vec * tf_idf)\n",
    "            weight_sum += tf_idf\n",
    "    if weight_sum != 0:\n",
    "        sent_vec /= weight_sum\n",
    "    tfidf_sent_vectors.append(sent_vec)\n",
    "    row += 1\n",
    "\n",
    "X_train_tfidf_word2vec, X_test_tfidf_word2vec, Y_train_tfidf_wor2vec, Y_test_tfidf_wor2vec = train_test_split(tfidf_sent_vectors, Y, test_size=0.20,random_state=0)\n",
    "X_train_tfidf_word2vec=preprocessing.normalize(X_train_tfidf_word2vec)\n",
    "X_test_tfidf_word2vec=preprocessing.normalize(X_test_tfidf_word2vec)\n",
    "print(X_train_tfidf_word2vec.shape)\n",
    "print(X_test_tfidf_word2vec.shape)"
   ],
   "outputs": [
    {
     "output_type": "stream",
     "name": "stderr",
     "text": [
      "100%|██████████| 363834/363834 [09:26<00:00, 642.19it/s] \n"
     ]
    },
    {
     "output_type": "stream",
     "name": "stdout",
     "text": [
      "(291067, 100)\n",
      "(72767, 100)\n"
     ]
    }
   ],
   "metadata": {}
  },
  {
   "cell_type": "code",
   "execution_count": 69,
   "source": [
    "auc_score_tf_idf_test, accuracy_tf_idf_test = KNN_train_simple_cv(X_train_tfidf, Y_train, X_test_tfidf, Y_test)\n",
    "\n",
    "# print(f\"AUC Score (Test): {auc_score_tf_idf_test}\")\n",
    "# print(f\"Accuracy (Test): {accuracy_tf_idf_test}\")"
   ],
   "outputs": [
    {
     "output_type": "stream",
     "name": "stdout",
     "text": [
      "1 - AUC Score (CV): 0.506192924060669  Accuracy (CV): 0.8457518245135498\n",
      "3 - AUC Score (CV): 0.6813108797457154  Accuracy (CV): 0.8539452177443703\n",
      "5 - AUC Score (CV): 0.7338030492993182  Accuracy (CV): 0.8592756082579409\n",
      "7 - AUC Score (CV): 0.760988579880904  Accuracy (CV): 0.8618783380008953\n",
      "9 - AUC Score (CV): 0.7796742513617106  Accuracy (CV): 0.8619303925957544\n",
      "11 - AUC Score (CV): 0.791187755906192  Accuracy (CV): 0.8617534069732335\n",
      "13 - AUC Score (CV): 0.8021695549858443  Accuracy (CV): 0.8612953265384735\n",
      "15 - AUC Score (CV): 0.810634665361802  Accuracy (CV): 0.8610246426452063\n",
      "17 - AUC Score (CV): 0.8168061120825183  Accuracy (CV): 0.8609517662124035\n",
      "19 - AUC Score (CV): 0.8221459856583814  Accuracy (CV): 0.8611183409159526\n",
      "21 - AUC Score (CV): 0.8271655297701619  Accuracy (CV): 0.8606810823191363\n",
      "23 - AUC Score (CV): 0.8302029376574929  Accuracy (CV): 0.8603271110740945\n",
      "Best k-value based on AUC: 23\n",
      "Best accuracy: 0.8619303925957544\n"
     ]
    },
    {
     "output_type": "display_data",
     "data": {
      "image/png": "[encoded data removed]",
      "text/plain": [
       "<Figure size 432x288 with 1 Axes>"
      ]
     },
     "metadata": {
      "needs_background": "light"
     }
    },
    {
     "output_type": "display_data",
     "data": {
      "image/png": "[encoded data removed]",
      "text/plain": [
       "<Figure size 432x288 with 1 Axes>"
      ]
     },
     "metadata": {
      "needs_background": "light"
     }
    },
    {
     "output_type": "display_data",
     "data": {
      "image/png": "[encoded data removed]",
      "text/plain": [
       "<Figure size 432x288 with 2 Axes>"
      ]
     },
     "metadata": {
      "needs_background": "light"
     }
    },
    {
     "output_type": "display_data",
     "data": {
      "image/png": "[encoded data removed]",
      "text/plain": [
       "<Figure size 432x288 with 2 Axes>"
      ]
     },
     "metadata": {
      "needs_background": "light"
     }
    },
    {
     "output_type": "stream",
     "name": "stdout",
     "text": [
      "561951    1\n",
      "384143    1\n",
      "467741    1\n",
      "120796    1\n",
      "160889    1\n",
      "         ..\n",
      "442737    1\n",
      "54066     0\n",
      "287219    1\n",
      "179156    1\n",
      "140142    1\n",
      "Name: Review, Length: 72767, dtype: int32 \n",
      "\n",
      "[0.7826087  1.         0.82608696 ... 1.         0.91304348 0.82608696] \n",
      "\n",
      "[1 1 1 ... 1 1 1] \n",
      "\n",
      "AUC Score (Test): 0.8324394868644662\n",
      "Accuracy (Test): 0.8589333076806794\n"
     ]
    }
   ],
   "metadata": {}
  },
  {
   "cell_type": "code",
   "execution_count": 70,
   "source": [
    "auc_score_bow_test, accuracy_bow_test = KNN_train_simple_cv(X_train_bow, Y_train, X_test_bow, Y_test)"
   ],
   "outputs": [
    {
     "output_type": "stream",
     "name": "stdout",
     "text": [
      "1 - AUC Score (CV): 0.5438311005256404  Accuracy (CV): 0.8359447388420976\n",
      "3 - AUC Score (CV): 0.6997715749275878  Accuracy (CV): 0.8537578212028776\n",
      "5 - AUC Score (CV): 0.7538736138112808  Accuracy (CV): 0.8595358812322363\n",
      "7 - AUC Score (CV): 0.7808526333453252  Accuracy (CV): 0.8613994357281918\n",
      "9 - AUC Score (CV): 0.7960000529291101  Accuracy (CV): 0.862242720164909\n",
      "11 - AUC Score (CV): 0.8064062294117861  Accuracy (CV): 0.862357240273599\n",
      "13 - AUC Score (CV): 0.8148472085001424  Accuracy (CV): 0.8621177891372471\n",
      "15 - AUC Score (CV): 0.821358463022291  Accuracy (CV): 0.8616805305404308\n",
      "17 - AUC Score (CV): 0.8261622379381479  Accuracy (CV): 0.8617325851352899\n",
      "19 - AUC Score (CV): 0.8298924451304371  Accuracy (CV): 0.861722174216318\n",
      "21 - AUC Score (CV): 0.8335894415455422  Accuracy (CV): 0.8610766972400654\n",
      "23 - AUC Score (CV): 0.8358926597416443  Accuracy (CV): 0.8607643696709109\n",
      "Best k-value based on AUC: 23\n",
      "Best accuracy: 0.862357240273599\n"
     ]
    },
    {
     "output_type": "display_data",
     "data": {
      "image/png": "[encoded data removed]",
      "text/plain": [
       "<Figure size 432x288 with 1 Axes>"
      ]
     },
     "metadata": {
      "needs_background": "light"
     }
    },
    {
     "output_type": "display_data",
     "data": {
      "image/png": "[encoded data removed]",
      "text/plain": [
       "<Figure size 432x288 with 1 Axes>"
      ]
     },
     "metadata": {
      "needs_background": "light"
     }
    },
    {
     "output_type": "display_data",
     "data": {
      "image/png": "[encoded data removed]",
      "text/plain": [
       "<Figure size 432x288 with 2 Axes>"
      ]
     },
     "metadata": {
      "needs_background": "light"
     }
    },
    {
     "output_type": "display_data",
     "data": {
      "image/png": "[encoded data removed]",
      "text/plain": [
       "<Figure size 432x288 with 2 Axes>"
      ]
     },
     "metadata": {
      "needs_background": "light"
     }
    },
    {
     "output_type": "stream",
     "name": "stdout",
     "text": [
      "561951    1\n",
      "384143    1\n",
      "467741    1\n",
      "120796    1\n",
      "160889    1\n",
      "         ..\n",
      "442737    1\n",
      "54066     0\n",
      "287219    1\n",
      "179156    1\n",
      "140142    1\n",
      "Name: Review, Length: 72767, dtype: int32 \n",
      "\n",
      "[0.7826087  0.95652174 0.82608696 ... 0.95652174 1.         0.60869565] \n",
      "\n",
      "[1 1 1 ... 1 1 1] \n",
      "\n",
      "AUC Score (Test): 0.840178893336761\n",
      "Accuracy (Test): 0.8597715997636292\n"
     ]
    }
   ],
   "metadata": {}
  },
  {
   "cell_type": "code",
   "execution_count": 75,
   "source": [
    "#Importing Libraries\n",
    "\n",
    "import sys \n",
    "import sqlite3\n",
    "import pandas as pd\n",
    "import numpy as np\n",
    "import nltk\n",
    "from nltk.corpus import stopwords\n",
    "from nltk.stem import SnowballStemmer\n",
    "import re\n",
    "import matplotlib.pyplot as plt\n",
    "#get_ipython().run_line_magic('matplotlib', 'inline')\n",
    "import seaborn as sns\n",
    "from sklearn.feature_extraction.text import CountVectorizer\n",
    "from sklearn.feature_extraction.text import TfidfVectorizer\n",
    "from wordcloud import WordCloud\n",
    "from gensim.models import Word2Vec\n",
    "from gensim.models import KeyedVectors\n",
    "import warnings\n",
    "from sklearn.model_selection import train_test_split \n",
    "from sklearn.model_selection import KFold\n",
    "from sklearn.model_selection import cross_val_score\n",
    "import pickle\n",
    "import gensim\n",
    "from tqdm import tqdm\n",
    "from sklearn.preprocessing import LabelEncoder\n",
    "from data_preprocessing import clean_text, preprocess_text, sentence_to_words\n",
    "from ml_algorithms.KNN import KNN_train_simple_cv\n",
    "from ml_algorithms.NaiveBayes import NaiveBayes_train_simple_cv\n",
    "from sklearn import preprocessing\n",
    "from sklearn.preprocessing import Normalizer"
   ],
   "outputs": [],
   "metadata": {}
  },
  {
   "cell_type": "markdown",
   "source": [
    " NaiveBayes on Bag of Words"
   ],
   "metadata": {}
  },
  {
   "cell_type": "code",
   "execution_count": 76,
   "source": [
    "auc_score_bow_test_NB, accuracy_bow_test_NB = NaiveBayes_train_simple_cv(X_train_bow, Y_train, X_test_bow, Y_test)"
   ],
   "outputs": [
    {
     "output_type": "stream",
     "name": "stdout",
     "text": [
      "AUC Score (CV): 0.8787373743329031  Accuracy (CV): 0.8440027901262844\n",
      "AUC Score (Train): 0.8867622336918933  Accuracy (Train): 0.8430830607033342\n"
     ]
    },
    {
     "output_type": "display_data",
     "data": {
      "image/png": "[encoded data removed]",
      "text/plain": [
       "<Figure size 432x288 with 2 Axes>"
      ]
     },
     "metadata": {
      "needs_background": "light"
     }
    },
    {
     "output_type": "display_data",
     "data": {
      "image/png": "[encoded data removed]",
      "text/plain": [
       "<Figure size 432x288 with 2 Axes>"
      ]
     },
     "metadata": {
      "needs_background": "light"
     }
    },
    {
     "output_type": "stream",
     "name": "stdout",
     "text": [
      "561951    1\n",
      "384143    1\n",
      "467741    1\n",
      "120796    1\n",
      "160889    1\n",
      "         ..\n",
      "442737    1\n",
      "54066     0\n",
      "287219    1\n",
      "179156    1\n",
      "140142    1\n",
      "Name: Review, Length: 72767, dtype: int32 \n",
      "\n",
      "[0.99407388 0.99785611 0.99002019 ... 0.99897318 0.9822145  0.97434954] \n",
      "\n",
      "[1 1 1 ... 1 1 1] \n",
      "\n",
      "AUC Score (Test): 0.8800382734908452\n",
      "Accuracy (Test): 0.8430332430909616\n"
     ]
    }
   ],
   "metadata": {}
  },
  {
   "cell_type": "code",
   "execution_count": 77,
   "source": [
    "auc_score_tf_idf_test_NB, accuracy_tf_idf_test_NB = NaiveBayes_train_simple_cv(X_train_tfidf, Y_train, X_test_tfidf, Y_test)\n",
    "\n",
    "# print(f\"AUC Score (Test): {auc_score_tf_idf_test}\")\n",
    "# print(f\"Accuracy (Test): {accuracy_tf_idf_test}\")"
   ],
   "outputs": [
    {
     "output_type": "stream",
     "name": "stdout",
     "text": [
      "AUC Score (CV): 0.8294365091094146  Accuracy (CV): 0.8440340228832\n",
      "AUC Score (Train): 0.9054657123267376  Accuracy (Train): 0.8429394812680115\n"
     ]
    },
    {
     "output_type": "display_data",
     "data": {
      "image/png": "[encoded data removed]",
      "text/plain": [
       "<Figure size 432x288 with 2 Axes>"
      ]
     },
     "metadata": {
      "needs_background": "light"
     }
    },
    {
     "output_type": "display_data",
     "data": {
      "image/png": "[encoded data removed]",
      "text/plain": [
       "<Figure size 432x288 with 2 Axes>"
      ]
     },
     "metadata": {
      "needs_background": "light"
     }
    },
    {
     "output_type": "stream",
     "name": "stdout",
     "text": [
      "561951    1\n",
      "384143    1\n",
      "467741    1\n",
      "120796    1\n",
      "160889    1\n",
      "         ..\n",
      "442737    1\n",
      "54066     0\n",
      "287219    1\n",
      "179156    1\n",
      "140142    1\n",
      "Name: Review, Length: 72767, dtype: int32 \n",
      "\n",
      "[0.99979794 0.99979334 0.99984494 ... 0.99999178 0.99828703 0.99742323] \n",
      "\n",
      "[1 1 1 ... 1 1 1] \n",
      "\n",
      "AUC Score (Test): 0.8204978946960051\n",
      "Accuracy (Test): 0.8428271056935149\n"
     ]
    }
   ],
   "metadata": {}
  },
  {
   "cell_type": "code",
   "execution_count": 79,
   "source": [
    "auc_score_word2vec_test, accuracy_bword2vec_test = KNN_train_simple_cv(X_train_tfidf_word2vec, Y_train_tfidf_wor2vec, X_test_tfidf_word2vec, Y_test_tfidf_wor2vec)"
   ],
   "outputs": [
    {
     "output_type": "stream",
     "name": "stdout",
     "text": [
      "1 - AUC Score (CV): 0.6837236808314082  Accuracy (CV): 0.8345809084567894\n",
      "3 - AUC Score (CV): 0.7747147854398138  Accuracy (CV): 0.8621906655700499\n",
      "5 - AUC Score (CV): 0.8081140084375266  Accuracy (CV): 0.8711128231288976\n",
      "7 - AUC Score (CV): 0.8245519151620099  Accuracy (CV): 0.8737259637908238\n",
      "9 - AUC Score (CV): 0.8347363584457645  Accuracy (CV): 0.8752459579607091\n",
      "11 - AUC Score (CV): 0.8419043118591278  Accuracy (CV): 0.8756936274764974\n",
      "13 - AUC Score (CV): 0.8466587820778454  Accuracy (CV): 0.8760267768835955\n",
      "15 - AUC Score (CV): 0.850403933281173  Accuracy (CV): 0.8758497912610747\n",
      "17 - AUC Score (CV): 0.8532480240242746  Accuracy (CV): 0.8755686964488355\n",
      "19 - AUC Score (CV): 0.855113443120167  Accuracy (CV): 0.8755478746108919\n",
      "21 - AUC Score (CV): 0.856303414308654  Accuracy (CV): 0.8753604780693992\n",
      "23 - AUC Score (CV): 0.8577301075123627  Accuracy (CV): 0.8749440413105265\n",
      "Best k-value based on AUC: 23\n",
      "Best accuracy: 0.8760267768835955\n"
     ]
    },
    {
     "output_type": "display_data",
     "data": {
      "image/png": "[encoded data removed]",
      "text/plain": [
       "<Figure size 432x288 with 1 Axes>"
      ]
     },
     "metadata": {
      "needs_background": "light"
     }
    },
    {
     "output_type": "display_data",
     "data": {
      "image/png": "[encoded data removed]",
      "text/plain": [
       "<Figure size 432x288 with 1 Axes>"
      ]
     },
     "metadata": {
      "needs_background": "light"
     }
    },
    {
     "output_type": "display_data",
     "data": {
      "image/png": "[encoded data removed]",
      "text/plain": [
       "<Figure size 432x288 with 2 Axes>"
      ]
     },
     "metadata": {
      "needs_background": "light"
     }
    },
    {
     "output_type": "display_data",
     "data": {
      "image/png": "[encoded data removed]",
      "text/plain": [
       "<Figure size 432x288 with 2 Axes>"
      ]
     },
     "metadata": {
      "needs_background": "light"
     }
    },
    {
     "output_type": "stream",
     "name": "stdout",
     "text": [
      "257296    1\n",
      "475038    1\n",
      "533789    1\n",
      "333345    1\n",
      "2166      1\n",
      "         ..\n",
      "326993    1\n",
      "393602    0\n",
      "176000    1\n",
      "563994    0\n",
      "170857    1\n",
      "Name: Review, Length: 72767, dtype: int32 \n",
      "\n",
      "[1.         0.95652174 0.86956522 ... 0.91304348 0.60869565 0.7826087 ] \n",
      "\n",
      "[1 1 1 ... 1 1 1] \n",
      "\n",
      "AUC Score (Test): 0.8652712279105005\n",
      "Accuracy (Test): 0.877678068355161\n"
     ]
    }
   ],
   "metadata": {}
  },
  {
   "cell_type": "code",
   "execution_count": 85,
   "source": [
    "np.min(X_train_tfidf_word2vec)"
   ],
   "outputs": [
    {
     "output_type": "execute_result",
     "data": {
      "text/plain": [
       "-0.5025431893675845"
      ]
     },
     "metadata": {},
     "execution_count": 85
    }
   ],
   "metadata": {}
  }
 ],
 "nbformat": 4,
 "nbformat_minor": 2,
 "metadata": {
  "language_info": {
   "codemirror_mode": {
    "name": "ipython",
    "version": 3
   },
   "file_extension": ".py",
   "mimetype": "text/x-python",
   "name": "python",
   "nbconvert_exporter": "python",
   "pygments_lexer": "ipython3",
   "version": 3
  }
 }
}